{
 "cells": [
  {
   "cell_type": "code",
   "execution_count": 25,
   "metadata": {},
   "outputs": [],
   "source": [
    "from sklearn.neighbors import KNeighborsClassifier\n",
    "from sklearn.model_selection import train_test_split\n",
    "from sklearn.metrics import accuracy_score\n",
    "import pandas as pd\n",
    "import numpy as np"
   ]
  },
  {
   "cell_type": "code",
   "execution_count": 4,
   "metadata": {},
   "outputs": [],
   "source": [
    "data = pd.read_csv('baseball_data.csv')"
   ]
  },
  {
   "cell_type": "code",
   "execution_count": 5,
   "metadata": {},
   "outputs": [
    {
     "data": {
      "text/plain": [
       "Index(['Season', 'Name', 'Team', 'G', 'PA', 'HR', 'R', 'RBI', 'SB', 'BB%',\n",
       "       'K%', 'ISO', 'BABIP', 'AVG', 'OBP', 'SLG', 'OPS', 'wOBA', 'wRC+', 'WAR',\n",
       "       'playerid'],\n",
       "      dtype='object')"
      ]
     },
     "execution_count": 5,
     "metadata": {},
     "output_type": "execute_result"
    }
   ],
   "source": [
    "data.columns"
   ]
  },
  {
   "cell_type": "code",
   "execution_count": 6,
   "metadata": {},
   "outputs": [],
   "source": [
    "data = data.drop(columns=['Season', 'Name', 'Team', 'playerid'])"
   ]
  },
  {
   "cell_type": "code",
   "execution_count": 19,
   "metadata": {},
   "outputs": [],
   "source": [
    "data = data.rename(columns={'BB%':'BB', 'K%':'K', 'wRC+':'WRCplus'})"
   ]
  },
  {
   "cell_type": "code",
   "execution_count": 20,
   "metadata": {},
   "outputs": [
    {
     "data": {
      "text/html": [
       "<div>\n",
       "<style scoped>\n",
       "    .dataframe tbody tr th:only-of-type {\n",
       "        vertical-align: middle;\n",
       "    }\n",
       "\n",
       "    .dataframe tbody tr th {\n",
       "        vertical-align: top;\n",
       "    }\n",
       "\n",
       "    .dataframe thead th {\n",
       "        text-align: right;\n",
       "    }\n",
       "</style>\n",
       "<table border=\"1\" class=\"dataframe\">\n",
       "  <thead>\n",
       "    <tr style=\"text-align: right;\">\n",
       "      <th></th>\n",
       "      <th>G</th>\n",
       "      <th>PA</th>\n",
       "      <th>HR</th>\n",
       "      <th>R</th>\n",
       "      <th>RBI</th>\n",
       "      <th>SB</th>\n",
       "      <th>BB</th>\n",
       "      <th>K</th>\n",
       "      <th>ISO</th>\n",
       "      <th>BABIP</th>\n",
       "      <th>AVG</th>\n",
       "      <th>OBP</th>\n",
       "      <th>SLG</th>\n",
       "      <th>OPS</th>\n",
       "      <th>wOBA</th>\n",
       "      <th>WRCplus</th>\n",
       "      <th>WAR</th>\n",
       "    </tr>\n",
       "  </thead>\n",
       "  <tbody>\n",
       "    <tr>\n",
       "      <th>0</th>\n",
       "      <td>153</td>\n",
       "      <td>654</td>\n",
       "      <td>42</td>\n",
       "      <td>118</td>\n",
       "      <td>99</td>\n",
       "      <td>6</td>\n",
       "      <td>19.0</td>\n",
       "      <td>20.0</td>\n",
       "      <td>0.319</td>\n",
       "      <td>0.369</td>\n",
       "      <td>0.330</td>\n",
       "      <td>0.460</td>\n",
       "      <td>0.649</td>\n",
       "      <td>1.109</td>\n",
       "      <td>0.461</td>\n",
       "      <td>197</td>\n",
       "      <td>9.3</td>\n",
       "    </tr>\n",
       "    <tr>\n",
       "      <th>1</th>\n",
       "      <td>136</td>\n",
       "      <td>614</td>\n",
       "      <td>32</td>\n",
       "      <td>129</td>\n",
       "      <td>80</td>\n",
       "      <td>30</td>\n",
       "      <td>13.2</td>\n",
       "      <td>14.8</td>\n",
       "      <td>0.294</td>\n",
       "      <td>0.368</td>\n",
       "      <td>0.346</td>\n",
       "      <td>0.438</td>\n",
       "      <td>0.640</td>\n",
       "      <td>1.078</td>\n",
       "      <td>0.449</td>\n",
       "      <td>185</td>\n",
       "      <td>10.6</td>\n",
       "    </tr>\n",
       "    <tr>\n",
       "      <th>2</th>\n",
       "      <td>140</td>\n",
       "      <td>608</td>\n",
       "      <td>39</td>\n",
       "      <td>101</td>\n",
       "      <td>79</td>\n",
       "      <td>24</td>\n",
       "      <td>20.1</td>\n",
       "      <td>20.4</td>\n",
       "      <td>0.316</td>\n",
       "      <td>0.346</td>\n",
       "      <td>0.312</td>\n",
       "      <td>0.460</td>\n",
       "      <td>0.628</td>\n",
       "      <td>1.088</td>\n",
       "      <td>0.447</td>\n",
       "      <td>188</td>\n",
       "      <td>9.5</td>\n",
       "    </tr>\n",
       "    <tr>\n",
       "      <th>3</th>\n",
       "      <td>130</td>\n",
       "      <td>580</td>\n",
       "      <td>44</td>\n",
       "      <td>100</td>\n",
       "      <td>97</td>\n",
       "      <td>30</td>\n",
       "      <td>13.8</td>\n",
       "      <td>20.3</td>\n",
       "      <td>0.342</td>\n",
       "      <td>0.355</td>\n",
       "      <td>0.329</td>\n",
       "      <td>0.429</td>\n",
       "      <td>0.671</td>\n",
       "      <td>1.100</td>\n",
       "      <td>0.442</td>\n",
       "      <td>174</td>\n",
       "      <td>7.3</td>\n",
       "    </tr>\n",
       "    <tr>\n",
       "      <th>4</th>\n",
       "      <td>114</td>\n",
       "      <td>507</td>\n",
       "      <td>33</td>\n",
       "      <td>92</td>\n",
       "      <td>72</td>\n",
       "      <td>22</td>\n",
       "      <td>18.5</td>\n",
       "      <td>17.8</td>\n",
       "      <td>0.323</td>\n",
       "      <td>0.318</td>\n",
       "      <td>0.306</td>\n",
       "      <td>0.442</td>\n",
       "      <td>0.629</td>\n",
       "      <td>1.071</td>\n",
       "      <td>0.437</td>\n",
       "      <td>180</td>\n",
       "      <td>6.4</td>\n",
       "    </tr>\n",
       "  </tbody>\n",
       "</table>\n",
       "</div>"
      ],
      "text/plain": [
       "     G   PA  HR    R  RBI  SB    BB     K    ISO  BABIP    AVG    OBP    SLG  \\\n",
       "0  153  654  42  118   99   6  19.0  20.0  0.319  0.369  0.330  0.460  0.649   \n",
       "1  136  614  32  129   80  30  13.2  14.8  0.294  0.368  0.346  0.438  0.640   \n",
       "2  140  608  39  101   79  24  20.1  20.4  0.316  0.346  0.312  0.460  0.628   \n",
       "3  130  580  44  100   97  30  13.8  20.3  0.342  0.355  0.329  0.429  0.671   \n",
       "4  114  507  33   92   72  22  18.5  17.8  0.323  0.318  0.306  0.442  0.629   \n",
       "\n",
       "     OPS   wOBA  WRCplus   WAR  \n",
       "0  1.109  0.461      197   9.3  \n",
       "1  1.078  0.449      185  10.6  \n",
       "2  1.088  0.447      188   9.5  \n",
       "3  1.100  0.442      174   7.3  \n",
       "4  1.071  0.437      180   6.4  "
      ]
     },
     "execution_count": 20,
     "metadata": {},
     "output_type": "execute_result"
    }
   ],
   "source": [
    "data.head(5)"
   ]
  },
  {
   "cell_type": "code",
   "execution_count": 21,
   "metadata": {},
   "outputs": [],
   "source": [
    "data['BB'] = data['BB'].str.replace('%', '')\n",
    "data['K'] = data['K'].str.replace('%', '')"
   ]
  },
  {
   "cell_type": "code",
   "execution_count": 22,
   "metadata": {},
   "outputs": [
    {
     "data": {
      "text/html": [
       "<div>\n",
       "<style scoped>\n",
       "    .dataframe tbody tr th:only-of-type {\n",
       "        vertical-align: middle;\n",
       "    }\n",
       "\n",
       "    .dataframe tbody tr th {\n",
       "        vertical-align: top;\n",
       "    }\n",
       "\n",
       "    .dataframe thead th {\n",
       "        text-align: right;\n",
       "    }\n",
       "</style>\n",
       "<table border=\"1\" class=\"dataframe\">\n",
       "  <thead>\n",
       "    <tr style=\"text-align: right;\">\n",
       "      <th></th>\n",
       "      <th>G</th>\n",
       "      <th>PA</th>\n",
       "      <th>HR</th>\n",
       "      <th>R</th>\n",
       "      <th>RBI</th>\n",
       "      <th>SB</th>\n",
       "      <th>BB</th>\n",
       "      <th>K</th>\n",
       "      <th>ISO</th>\n",
       "      <th>BABIP</th>\n",
       "      <th>AVG</th>\n",
       "      <th>OBP</th>\n",
       "      <th>SLG</th>\n",
       "      <th>OPS</th>\n",
       "      <th>wOBA</th>\n",
       "      <th>WRCplus</th>\n",
       "      <th>WAR</th>\n",
       "    </tr>\n",
       "  </thead>\n",
       "  <tbody>\n",
       "    <tr>\n",
       "      <th>0</th>\n",
       "      <td>153</td>\n",
       "      <td>654</td>\n",
       "      <td>42</td>\n",
       "      <td>118</td>\n",
       "      <td>99</td>\n",
       "      <td>6</td>\n",
       "      <td>19.0</td>\n",
       "      <td>20.0</td>\n",
       "      <td>0.319</td>\n",
       "      <td>0.369</td>\n",
       "      <td>0.330</td>\n",
       "      <td>0.460</td>\n",
       "      <td>0.649</td>\n",
       "      <td>1.109</td>\n",
       "      <td>0.461</td>\n",
       "      <td>197</td>\n",
       "      <td>9.3</td>\n",
       "    </tr>\n",
       "    <tr>\n",
       "      <th>1</th>\n",
       "      <td>136</td>\n",
       "      <td>614</td>\n",
       "      <td>32</td>\n",
       "      <td>129</td>\n",
       "      <td>80</td>\n",
       "      <td>30</td>\n",
       "      <td>13.2</td>\n",
       "      <td>14.8</td>\n",
       "      <td>0.294</td>\n",
       "      <td>0.368</td>\n",
       "      <td>0.346</td>\n",
       "      <td>0.438</td>\n",
       "      <td>0.640</td>\n",
       "      <td>1.078</td>\n",
       "      <td>0.449</td>\n",
       "      <td>185</td>\n",
       "      <td>10.6</td>\n",
       "    </tr>\n",
       "    <tr>\n",
       "      <th>2</th>\n",
       "      <td>140</td>\n",
       "      <td>608</td>\n",
       "      <td>39</td>\n",
       "      <td>101</td>\n",
       "      <td>79</td>\n",
       "      <td>24</td>\n",
       "      <td>20.1</td>\n",
       "      <td>20.4</td>\n",
       "      <td>0.316</td>\n",
       "      <td>0.346</td>\n",
       "      <td>0.312</td>\n",
       "      <td>0.460</td>\n",
       "      <td>0.628</td>\n",
       "      <td>1.088</td>\n",
       "      <td>0.447</td>\n",
       "      <td>188</td>\n",
       "      <td>9.5</td>\n",
       "    </tr>\n",
       "    <tr>\n",
       "      <th>3</th>\n",
       "      <td>130</td>\n",
       "      <td>580</td>\n",
       "      <td>44</td>\n",
       "      <td>100</td>\n",
       "      <td>97</td>\n",
       "      <td>30</td>\n",
       "      <td>13.8</td>\n",
       "      <td>20.3</td>\n",
       "      <td>0.342</td>\n",
       "      <td>0.355</td>\n",
       "      <td>0.329</td>\n",
       "      <td>0.429</td>\n",
       "      <td>0.671</td>\n",
       "      <td>1.100</td>\n",
       "      <td>0.442</td>\n",
       "      <td>174</td>\n",
       "      <td>7.3</td>\n",
       "    </tr>\n",
       "    <tr>\n",
       "      <th>4</th>\n",
       "      <td>114</td>\n",
       "      <td>507</td>\n",
       "      <td>33</td>\n",
       "      <td>92</td>\n",
       "      <td>72</td>\n",
       "      <td>22</td>\n",
       "      <td>18.5</td>\n",
       "      <td>17.8</td>\n",
       "      <td>0.323</td>\n",
       "      <td>0.318</td>\n",
       "      <td>0.306</td>\n",
       "      <td>0.442</td>\n",
       "      <td>0.629</td>\n",
       "      <td>1.071</td>\n",
       "      <td>0.437</td>\n",
       "      <td>180</td>\n",
       "      <td>6.4</td>\n",
       "    </tr>\n",
       "  </tbody>\n",
       "</table>\n",
       "</div>"
      ],
      "text/plain": [
       "     G   PA  HR    R  RBI  SB    BB     K    ISO  BABIP    AVG    OBP    SLG  \\\n",
       "0  153  654  42  118   99   6  19.0  20.0  0.319  0.369  0.330  0.460  0.649   \n",
       "1  136  614  32  129   80  30  13.2  14.8  0.294  0.368  0.346  0.438  0.640   \n",
       "2  140  608  39  101   79  24  20.1  20.4  0.316  0.346  0.312  0.460  0.628   \n",
       "3  130  580  44  100   97  30  13.8  20.3  0.342  0.355  0.329  0.429  0.671   \n",
       "4  114  507  33   92   72  22  18.5  17.8  0.323  0.318  0.306  0.442  0.629   \n",
       "\n",
       "     OPS   wOBA  WRCplus   WAR  \n",
       "0  1.109  0.461      197   9.3  \n",
       "1  1.078  0.449      185  10.6  \n",
       "2  1.088  0.447      188   9.5  \n",
       "3  1.100  0.442      174   7.3  \n",
       "4  1.071  0.437      180   6.4  "
      ]
     },
     "execution_count": 22,
     "metadata": {},
     "output_type": "execute_result"
    }
   ],
   "source": [
    "data.head(5)"
   ]
  },
  {
   "cell_type": "code",
   "execution_count": 29,
   "metadata": {},
   "outputs": [],
   "source": [
    "features = ['G', 'PA', 'HR', 'R', 'RBI', 'SB', 'BB','K', 'ISO', 'BABIP', 'AVG', 'OBP', 'SLG', 'OPS', 'wOBA', 'WRCplus', 'WAR']"
   ]
  },
  {
   "cell_type": "code",
   "execution_count": 27,
   "metadata": {},
   "outputs": [],
   "source": [
    "y = data.OPS"
   ]
  },
  {
   "cell_type": "code",
   "execution_count": 30,
   "metadata": {},
   "outputs": [],
   "source": [
    "X = data[features]"
   ]
  },
  {
   "cell_type": "code",
   "execution_count": 32,
   "metadata": {},
   "outputs": [],
   "source": [
    "X_train, X_test, y_train, y_test = train_test_split(X, y, test_size=0.3, random_state=0)"
   ]
  },
  {
   "cell_type": "code",
   "execution_count": 33,
   "metadata": {},
   "outputs": [],
   "source": [
    "knn = KNeighborsClassifier(n_neighbors=10)"
   ]
  },
  {
   "cell_type": "code",
   "execution_count": 34,
   "metadata": {},
   "outputs": [
    {
     "ename": "ValueError",
     "evalue": "Unknown label type: 'continuous'",
     "output_type": "error",
     "traceback": [
      "\u001b[0;31m---------------------------------------------------------------------------\u001b[0m",
      "\u001b[0;31mValueError\u001b[0m                                Traceback (most recent call last)",
      "\u001b[0;32m/var/folders/2j/rgdd494d7nj6ss812c9b9d6h0000gn/T/ipykernel_59364/131641130.py\u001b[0m in \u001b[0;36m<module>\u001b[0;34m\u001b[0m\n\u001b[0;32m----> 1\u001b[0;31m \u001b[0mknn\u001b[0m\u001b[0;34m.\u001b[0m\u001b[0mfit\u001b[0m\u001b[0;34m(\u001b[0m\u001b[0mX_train\u001b[0m\u001b[0;34m,\u001b[0m \u001b[0my_train\u001b[0m\u001b[0;34m)\u001b[0m\u001b[0;34m\u001b[0m\u001b[0;34m\u001b[0m\u001b[0m\n\u001b[0m",
      "\u001b[0;32m/opt/homebrew/lib/python3.9/site-packages/sklearn/neighbors/_classification.py\u001b[0m in \u001b[0;36mfit\u001b[0;34m(self, X, y)\u001b[0m\n\u001b[1;32m    196\u001b[0m         \u001b[0mself\u001b[0m\u001b[0;34m.\u001b[0m\u001b[0mweights\u001b[0m \u001b[0;34m=\u001b[0m \u001b[0m_check_weights\u001b[0m\u001b[0;34m(\u001b[0m\u001b[0mself\u001b[0m\u001b[0;34m.\u001b[0m\u001b[0mweights\u001b[0m\u001b[0;34m)\u001b[0m\u001b[0;34m\u001b[0m\u001b[0;34m\u001b[0m\u001b[0m\n\u001b[1;32m    197\u001b[0m \u001b[0;34m\u001b[0m\u001b[0m\n\u001b[0;32m--> 198\u001b[0;31m         \u001b[0;32mreturn\u001b[0m \u001b[0mself\u001b[0m\u001b[0;34m.\u001b[0m\u001b[0m_fit\u001b[0m\u001b[0;34m(\u001b[0m\u001b[0mX\u001b[0m\u001b[0;34m,\u001b[0m \u001b[0my\u001b[0m\u001b[0;34m)\u001b[0m\u001b[0;34m\u001b[0m\u001b[0;34m\u001b[0m\u001b[0m\n\u001b[0m\u001b[1;32m    199\u001b[0m \u001b[0;34m\u001b[0m\u001b[0m\n\u001b[1;32m    200\u001b[0m     \u001b[0;32mdef\u001b[0m \u001b[0mpredict\u001b[0m\u001b[0;34m(\u001b[0m\u001b[0mself\u001b[0m\u001b[0;34m,\u001b[0m \u001b[0mX\u001b[0m\u001b[0;34m)\u001b[0m\u001b[0;34m:\u001b[0m\u001b[0;34m\u001b[0m\u001b[0;34m\u001b[0m\u001b[0m\n",
      "\u001b[0;32m/opt/homebrew/lib/python3.9/site-packages/sklearn/neighbors/_base.py\u001b[0m in \u001b[0;36m_fit\u001b[0;34m(self, X, y)\u001b[0m\n\u001b[1;32m    418\u001b[0m                     \u001b[0mself\u001b[0m\u001b[0;34m.\u001b[0m\u001b[0moutputs_2d_\u001b[0m \u001b[0;34m=\u001b[0m \u001b[0;32mTrue\u001b[0m\u001b[0;34m\u001b[0m\u001b[0;34m\u001b[0m\u001b[0m\n\u001b[1;32m    419\u001b[0m \u001b[0;34m\u001b[0m\u001b[0m\n\u001b[0;32m--> 420\u001b[0;31m                 \u001b[0mcheck_classification_targets\u001b[0m\u001b[0;34m(\u001b[0m\u001b[0my\u001b[0m\u001b[0;34m)\u001b[0m\u001b[0;34m\u001b[0m\u001b[0;34m\u001b[0m\u001b[0m\n\u001b[0m\u001b[1;32m    421\u001b[0m                 \u001b[0mself\u001b[0m\u001b[0;34m.\u001b[0m\u001b[0mclasses_\u001b[0m \u001b[0;34m=\u001b[0m \u001b[0;34m[\u001b[0m\u001b[0;34m]\u001b[0m\u001b[0;34m\u001b[0m\u001b[0;34m\u001b[0m\u001b[0m\n\u001b[1;32m    422\u001b[0m                 \u001b[0mself\u001b[0m\u001b[0;34m.\u001b[0m\u001b[0m_y\u001b[0m \u001b[0;34m=\u001b[0m \u001b[0mnp\u001b[0m\u001b[0;34m.\u001b[0m\u001b[0mempty\u001b[0m\u001b[0;34m(\u001b[0m\u001b[0my\u001b[0m\u001b[0;34m.\u001b[0m\u001b[0mshape\u001b[0m\u001b[0;34m,\u001b[0m \u001b[0mdtype\u001b[0m\u001b[0;34m=\u001b[0m\u001b[0mint\u001b[0m\u001b[0;34m)\u001b[0m\u001b[0;34m\u001b[0m\u001b[0;34m\u001b[0m\u001b[0m\n",
      "\u001b[0;32m/opt/homebrew/lib/python3.9/site-packages/sklearn/utils/multiclass.py\u001b[0m in \u001b[0;36mcheck_classification_targets\u001b[0;34m(y)\u001b[0m\n\u001b[1;32m    195\u001b[0m         \u001b[0;34m\"multilabel-sequences\"\u001b[0m\u001b[0;34m,\u001b[0m\u001b[0;34m\u001b[0m\u001b[0;34m\u001b[0m\u001b[0m\n\u001b[1;32m    196\u001b[0m     ]:\n\u001b[0;32m--> 197\u001b[0;31m         \u001b[0;32mraise\u001b[0m \u001b[0mValueError\u001b[0m\u001b[0;34m(\u001b[0m\u001b[0;34m\"Unknown label type: %r\"\u001b[0m \u001b[0;34m%\u001b[0m \u001b[0my_type\u001b[0m\u001b[0;34m)\u001b[0m\u001b[0;34m\u001b[0m\u001b[0;34m\u001b[0m\u001b[0m\n\u001b[0m\u001b[1;32m    198\u001b[0m \u001b[0;34m\u001b[0m\u001b[0m\n\u001b[1;32m    199\u001b[0m \u001b[0;34m\u001b[0m\u001b[0m\n",
      "\u001b[0;31mValueError\u001b[0m: Unknown label type: 'continuous'"
     ]
    }
   ],
   "source": [
    "knn.fit(X_train, y_train)"
   ]
  },
  {
   "cell_type": "code",
   "execution_count": null,
   "metadata": {},
   "outputs": [],
   "source": []
  }
 ],
 "metadata": {
  "interpreter": {
   "hash": "b0fa6594d8f4cbf19f97940f81e996739fb7646882a419484c72d19e05852a7e"
  },
  "kernelspec": {
   "display_name": "Python 3.9.10 64-bit",
   "language": "python",
   "name": "python3"
  },
  "language_info": {
   "codemirror_mode": {
    "name": "ipython",
    "version": 3
   },
   "file_extension": ".py",
   "mimetype": "text/x-python",
   "name": "python",
   "nbconvert_exporter": "python",
   "pygments_lexer": "ipython3",
   "version": "3.9.10"
  },
  "orig_nbformat": 4
 },
 "nbformat": 4,
 "nbformat_minor": 2
}
