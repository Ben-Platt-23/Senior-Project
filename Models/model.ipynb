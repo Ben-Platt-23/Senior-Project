{
 "cells": [
  {
   "cell_type": "code",
   "execution_count": 87,
   "metadata": {},
   "outputs": [],
   "source": [
    "import pandas as pd\n",
    "pd.set_option('display.max_columns', None)"
   ]
  },
  {
   "cell_type": "code",
   "execution_count": 88,
   "metadata": {},
   "outputs": [],
   "source": [
    "batting = pd.read_csv('Fangraphs Leaderboard.csv')"
   ]
  },
  {
   "cell_type": "code",
   "execution_count": 131,
   "metadata": {},
   "outputs": [],
   "source": [
    "batting_names = batting.Name"
   ]
  },
  {
   "cell_type": "code",
   "execution_count": 89,
   "metadata": {},
   "outputs": [
    {
     "data": {
      "text/plain": [
       "Index(['Season', 'Name', 'Team', 'G', 'PA', 'HR', 'R', 'RBI', 'SB', 'BB%',\n",
       "       'K%', 'ISO', 'BABIP', 'AVG', 'OBP', 'SLG', 'OPS', 'wOBA', 'wRC+', 'BsR',\n",
       "       'Off', 'Def', 'WAR', 'playerid'],\n",
       "      dtype='object')"
      ]
     },
     "execution_count": 89,
     "metadata": {},
     "output_type": "execute_result"
    }
   ],
   "source": [
    "batting.columns"
   ]
  },
  {
   "cell_type": "code",
   "execution_count": null,
   "metadata": {},
   "outputs": [],
   "source": [
    "batting = batting.drop(columns=['xwOBA', 'playerid', 'Team'])"
   ]
  },
  {
   "cell_type": "code",
   "execution_count": 91,
   "metadata": {},
   "outputs": [],
   "source": [
    "batting = batting.rename(columns={'BB%':'BB', 'K%':'K', 'wRC+':'wRCp'})"
   ]
  },
  {
   "cell_type": "code",
   "execution_count": 92,
   "metadata": {},
   "outputs": [
    {
     "data": {
      "text/plain": [
       "Index(['Season', 'Name', 'Team', 'G', 'PA', 'HR', 'R', 'RBI', 'SB', 'BB', 'K',\n",
       "       'ISO', 'BABIP', 'AVG', 'OBP', 'SLG', 'OPS', 'wOBA', 'wRCp', 'BsR',\n",
       "       'Off', 'Def', 'WAR', 'playerid'],\n",
       "      dtype='object')"
      ]
     },
     "execution_count": 92,
     "metadata": {},
     "output_type": "execute_result"
    }
   ],
   "source": [
    "batting.columns"
   ]
  },
  {
   "cell_type": "code",
   "execution_count": 93,
   "metadata": {},
   "outputs": [],
   "source": [
    "batting['BB'] = batting['BB'].str.replace('%', '')"
   ]
  },
  {
   "cell_type": "code",
   "execution_count": null,
   "metadata": {},
   "outputs": [
    {
     "data": {
      "text/html": [
       "<div>\n",
       "<style scoped>\n",
       "    .dataframe tbody tr th:only-of-type {\n",
       "        vertical-align: middle;\n",
       "    }\n",
       "\n",
       "    .dataframe tbody tr th {\n",
       "        vertical-align: top;\n",
       "    }\n",
       "\n",
       "    .dataframe thead th {\n",
       "        text-align: right;\n",
       "    }\n",
       "</style>\n",
       "<table border=\"1\" class=\"dataframe\">\n",
       "  <thead>\n",
       "    <tr style=\"text-align: right;\">\n",
       "      <th></th>\n",
       "      <th>Season</th>\n",
       "      <th>Name</th>\n",
       "      <th>Team</th>\n",
       "      <th>G</th>\n",
       "      <th>PA</th>\n",
       "      <th>HR</th>\n",
       "      <th>R</th>\n",
       "      <th>RBI</th>\n",
       "      <th>SB</th>\n",
       "      <th>BB</th>\n",
       "      <th>K</th>\n",
       "      <th>ISO</th>\n",
       "      <th>BABIP</th>\n",
       "      <th>AVG</th>\n",
       "      <th>OBP</th>\n",
       "      <th>SLG</th>\n",
       "      <th>OPS</th>\n",
       "      <th>wOBA</th>\n",
       "      <th>wRCp</th>\n",
       "      <th>BsR</th>\n",
       "      <th>Off</th>\n",
       "      <th>Def</th>\n",
       "      <th>WAR</th>\n",
       "      <th>playerid</th>\n",
       "    </tr>\n",
       "  </thead>\n",
       "  <tbody>\n",
       "    <tr>\n",
       "      <th>0</th>\n",
       "      <td>2015</td>\n",
       "      <td>Bryce Harper</td>\n",
       "      <td>WSN</td>\n",
       "      <td>153</td>\n",
       "      <td>654</td>\n",
       "      <td>42</td>\n",
       "      <td>118</td>\n",
       "      <td>99</td>\n",
       "      <td>6</td>\n",
       "      <td>19.0</td>\n",
       "      <td>20.0%</td>\n",
       "      <td>0.319</td>\n",
       "      <td>0.369</td>\n",
       "      <td>0.330</td>\n",
       "      <td>0.460</td>\n",
       "      <td>0.649</td>\n",
       "      <td>1.109</td>\n",
       "      <td>0.461</td>\n",
       "      <td>197</td>\n",
       "      <td>3.6</td>\n",
       "      <td>77.7</td>\n",
       "      <td>-10.2</td>\n",
       "      <td>9.3</td>\n",
       "      <td>11579</td>\n",
       "    </tr>\n",
       "    <tr>\n",
       "      <th>1</th>\n",
       "      <td>2018</td>\n",
       "      <td>Mookie Betts</td>\n",
       "      <td>BOS</td>\n",
       "      <td>136</td>\n",
       "      <td>614</td>\n",
       "      <td>32</td>\n",
       "      <td>129</td>\n",
       "      <td>80</td>\n",
       "      <td>30</td>\n",
       "      <td>13.2</td>\n",
       "      <td>14.8%</td>\n",
       "      <td>0.294</td>\n",
       "      <td>0.368</td>\n",
       "      <td>0.346</td>\n",
       "      <td>0.438</td>\n",
       "      <td>0.640</td>\n",
       "      <td>1.078</td>\n",
       "      <td>0.449</td>\n",
       "      <td>185</td>\n",
       "      <td>6.9</td>\n",
       "      <td>69.3</td>\n",
       "      <td>13.3</td>\n",
       "      <td>10.6</td>\n",
       "      <td>13611</td>\n",
       "    </tr>\n",
       "    <tr>\n",
       "      <th>2</th>\n",
       "      <td>2018</td>\n",
       "      <td>Mike Trout</td>\n",
       "      <td>LAA</td>\n",
       "      <td>140</td>\n",
       "      <td>608</td>\n",
       "      <td>39</td>\n",
       "      <td>101</td>\n",
       "      <td>79</td>\n",
       "      <td>24</td>\n",
       "      <td>20.1</td>\n",
       "      <td>20.4%</td>\n",
       "      <td>0.316</td>\n",
       "      <td>0.346</td>\n",
       "      <td>0.312</td>\n",
       "      <td>0.460</td>\n",
       "      <td>0.628</td>\n",
       "      <td>1.088</td>\n",
       "      <td>0.447</td>\n",
       "      <td>188</td>\n",
       "      <td>5.0</td>\n",
       "      <td>69.2</td>\n",
       "      <td>2.1</td>\n",
       "      <td>9.5</td>\n",
       "      <td>10155</td>\n",
       "    </tr>\n",
       "    <tr>\n",
       "      <th>3</th>\n",
       "      <td>2019</td>\n",
       "      <td>Christian Yelich</td>\n",
       "      <td>MIL</td>\n",
       "      <td>130</td>\n",
       "      <td>580</td>\n",
       "      <td>44</td>\n",
       "      <td>100</td>\n",
       "      <td>97</td>\n",
       "      <td>30</td>\n",
       "      <td>13.8</td>\n",
       "      <td>20.3%</td>\n",
       "      <td>0.342</td>\n",
       "      <td>0.355</td>\n",
       "      <td>0.329</td>\n",
       "      <td>0.429</td>\n",
       "      <td>0.671</td>\n",
       "      <td>1.100</td>\n",
       "      <td>0.442</td>\n",
       "      <td>174</td>\n",
       "      <td>8.5</td>\n",
       "      <td>65.2</td>\n",
       "      <td>-9.0</td>\n",
       "      <td>7.3</td>\n",
       "      <td>11477</td>\n",
       "    </tr>\n",
       "    <tr>\n",
       "      <th>4</th>\n",
       "      <td>2017</td>\n",
       "      <td>Mike Trout</td>\n",
       "      <td>LAA</td>\n",
       "      <td>114</td>\n",
       "      <td>507</td>\n",
       "      <td>33</td>\n",
       "      <td>92</td>\n",
       "      <td>72</td>\n",
       "      <td>22</td>\n",
       "      <td>18.5</td>\n",
       "      <td>17.8%</td>\n",
       "      <td>0.323</td>\n",
       "      <td>0.318</td>\n",
       "      <td>0.306</td>\n",
       "      <td>0.442</td>\n",
       "      <td>0.629</td>\n",
       "      <td>1.071</td>\n",
       "      <td>0.437</td>\n",
       "      <td>180</td>\n",
       "      <td>4.0</td>\n",
       "      <td>54.4</td>\n",
       "      <td>-7.5</td>\n",
       "      <td>6.4</td>\n",
       "      <td>10155</td>\n",
       "    </tr>\n",
       "  </tbody>\n",
       "</table>\n",
       "</div>"
      ],
      "text/plain": [
       "   Season              Name Team    G   PA  HR    R  RBI  SB    BB      K  \\\n",
       "0    2015      Bryce Harper  WSN  153  654  42  118   99   6  19.0  20.0%   \n",
       "1    2018      Mookie Betts  BOS  136  614  32  129   80  30  13.2  14.8%   \n",
       "2    2018        Mike Trout  LAA  140  608  39  101   79  24  20.1  20.4%   \n",
       "3    2019  Christian Yelich  MIL  130  580  44  100   97  30  13.8  20.3%   \n",
       "4    2017        Mike Trout  LAA  114  507  33   92   72  22  18.5  17.8%   \n",
       "\n",
       "     ISO  BABIP    AVG    OBP    SLG    OPS   wOBA  wRCp  BsR   Off   Def  \\\n",
       "0  0.319  0.369  0.330  0.460  0.649  1.109  0.461   197  3.6  77.7 -10.2   \n",
       "1  0.294  0.368  0.346  0.438  0.640  1.078  0.449   185  6.9  69.3  13.3   \n",
       "2  0.316  0.346  0.312  0.460  0.628  1.088  0.447   188  5.0  69.2   2.1   \n",
       "3  0.342  0.355  0.329  0.429  0.671  1.100  0.442   174  8.5  65.2  -9.0   \n",
       "4  0.323  0.318  0.306  0.442  0.629  1.071  0.437   180  4.0  54.4  -7.5   \n",
       "\n",
       "    WAR  playerid  \n",
       "0   9.3     11579  \n",
       "1  10.6     13611  \n",
       "2   9.5     10155  \n",
       "3   7.3     11477  \n",
       "4   6.4     10155  "
      ]
     },
     "execution_count": 37,
     "metadata": {},
     "output_type": "execute_result"
    }
   ],
   "source": [
    "batting.head()"
   ]
  },
  {
   "cell_type": "code",
   "execution_count": 94,
   "metadata": {},
   "outputs": [],
   "source": [
    "batting['K'] = batting['K'].str.replace('%', '')"
   ]
  },
  {
   "cell_type": "code",
   "execution_count": 95,
   "metadata": {},
   "outputs": [
    {
     "data": {
      "text/html": [
       "<div>\n",
       "<style scoped>\n",
       "    .dataframe tbody tr th:only-of-type {\n",
       "        vertical-align: middle;\n",
       "    }\n",
       "\n",
       "    .dataframe tbody tr th {\n",
       "        vertical-align: top;\n",
       "    }\n",
       "\n",
       "    .dataframe thead th {\n",
       "        text-align: right;\n",
       "    }\n",
       "</style>\n",
       "<table border=\"1\" class=\"dataframe\">\n",
       "  <thead>\n",
       "    <tr style=\"text-align: right;\">\n",
       "      <th></th>\n",
       "      <th>Season</th>\n",
       "      <th>Name</th>\n",
       "      <th>Team</th>\n",
       "      <th>G</th>\n",
       "      <th>PA</th>\n",
       "      <th>HR</th>\n",
       "      <th>R</th>\n",
       "      <th>RBI</th>\n",
       "      <th>SB</th>\n",
       "      <th>BB</th>\n",
       "      <th>K</th>\n",
       "      <th>ISO</th>\n",
       "      <th>BABIP</th>\n",
       "      <th>AVG</th>\n",
       "      <th>OBP</th>\n",
       "      <th>SLG</th>\n",
       "      <th>OPS</th>\n",
       "      <th>wOBA</th>\n",
       "      <th>wRCp</th>\n",
       "      <th>BsR</th>\n",
       "      <th>Off</th>\n",
       "      <th>Def</th>\n",
       "      <th>WAR</th>\n",
       "      <th>playerid</th>\n",
       "    </tr>\n",
       "  </thead>\n",
       "  <tbody>\n",
       "    <tr>\n",
       "      <th>0</th>\n",
       "      <td>2015</td>\n",
       "      <td>Bryce Harper</td>\n",
       "      <td>WSN</td>\n",
       "      <td>153</td>\n",
       "      <td>654</td>\n",
       "      <td>42</td>\n",
       "      <td>118</td>\n",
       "      <td>99</td>\n",
       "      <td>6</td>\n",
       "      <td>19.0</td>\n",
       "      <td>20.0</td>\n",
       "      <td>0.319</td>\n",
       "      <td>0.369</td>\n",
       "      <td>0.330</td>\n",
       "      <td>0.460</td>\n",
       "      <td>0.649</td>\n",
       "      <td>1.109</td>\n",
       "      <td>0.461</td>\n",
       "      <td>197</td>\n",
       "      <td>3.6</td>\n",
       "      <td>77.7</td>\n",
       "      <td>-10.2</td>\n",
       "      <td>9.3</td>\n",
       "      <td>11579</td>\n",
       "    </tr>\n",
       "    <tr>\n",
       "      <th>1</th>\n",
       "      <td>2018</td>\n",
       "      <td>Mookie Betts</td>\n",
       "      <td>BOS</td>\n",
       "      <td>136</td>\n",
       "      <td>614</td>\n",
       "      <td>32</td>\n",
       "      <td>129</td>\n",
       "      <td>80</td>\n",
       "      <td>30</td>\n",
       "      <td>13.2</td>\n",
       "      <td>14.8</td>\n",
       "      <td>0.294</td>\n",
       "      <td>0.368</td>\n",
       "      <td>0.346</td>\n",
       "      <td>0.438</td>\n",
       "      <td>0.640</td>\n",
       "      <td>1.078</td>\n",
       "      <td>0.449</td>\n",
       "      <td>185</td>\n",
       "      <td>6.9</td>\n",
       "      <td>69.3</td>\n",
       "      <td>13.3</td>\n",
       "      <td>10.6</td>\n",
       "      <td>13611</td>\n",
       "    </tr>\n",
       "    <tr>\n",
       "      <th>2</th>\n",
       "      <td>2018</td>\n",
       "      <td>Mike Trout</td>\n",
       "      <td>LAA</td>\n",
       "      <td>140</td>\n",
       "      <td>608</td>\n",
       "      <td>39</td>\n",
       "      <td>101</td>\n",
       "      <td>79</td>\n",
       "      <td>24</td>\n",
       "      <td>20.1</td>\n",
       "      <td>20.4</td>\n",
       "      <td>0.316</td>\n",
       "      <td>0.346</td>\n",
       "      <td>0.312</td>\n",
       "      <td>0.460</td>\n",
       "      <td>0.628</td>\n",
       "      <td>1.088</td>\n",
       "      <td>0.447</td>\n",
       "      <td>188</td>\n",
       "      <td>5.0</td>\n",
       "      <td>69.2</td>\n",
       "      <td>2.1</td>\n",
       "      <td>9.5</td>\n",
       "      <td>10155</td>\n",
       "    </tr>\n",
       "    <tr>\n",
       "      <th>3</th>\n",
       "      <td>2019</td>\n",
       "      <td>Christian Yelich</td>\n",
       "      <td>MIL</td>\n",
       "      <td>130</td>\n",
       "      <td>580</td>\n",
       "      <td>44</td>\n",
       "      <td>100</td>\n",
       "      <td>97</td>\n",
       "      <td>30</td>\n",
       "      <td>13.8</td>\n",
       "      <td>20.3</td>\n",
       "      <td>0.342</td>\n",
       "      <td>0.355</td>\n",
       "      <td>0.329</td>\n",
       "      <td>0.429</td>\n",
       "      <td>0.671</td>\n",
       "      <td>1.100</td>\n",
       "      <td>0.442</td>\n",
       "      <td>174</td>\n",
       "      <td>8.5</td>\n",
       "      <td>65.2</td>\n",
       "      <td>-9.0</td>\n",
       "      <td>7.3</td>\n",
       "      <td>11477</td>\n",
       "    </tr>\n",
       "    <tr>\n",
       "      <th>4</th>\n",
       "      <td>2017</td>\n",
       "      <td>Mike Trout</td>\n",
       "      <td>LAA</td>\n",
       "      <td>114</td>\n",
       "      <td>507</td>\n",
       "      <td>33</td>\n",
       "      <td>92</td>\n",
       "      <td>72</td>\n",
       "      <td>22</td>\n",
       "      <td>18.5</td>\n",
       "      <td>17.8</td>\n",
       "      <td>0.323</td>\n",
       "      <td>0.318</td>\n",
       "      <td>0.306</td>\n",
       "      <td>0.442</td>\n",
       "      <td>0.629</td>\n",
       "      <td>1.071</td>\n",
       "      <td>0.437</td>\n",
       "      <td>180</td>\n",
       "      <td>4.0</td>\n",
       "      <td>54.4</td>\n",
       "      <td>-7.5</td>\n",
       "      <td>6.4</td>\n",
       "      <td>10155</td>\n",
       "    </tr>\n",
       "  </tbody>\n",
       "</table>\n",
       "</div>"
      ],
      "text/plain": [
       "   Season              Name Team    G   PA  HR    R  RBI  SB    BB     K  \\\n",
       "0    2015      Bryce Harper  WSN  153  654  42  118   99   6  19.0  20.0   \n",
       "1    2018      Mookie Betts  BOS  136  614  32  129   80  30  13.2  14.8   \n",
       "2    2018        Mike Trout  LAA  140  608  39  101   79  24  20.1  20.4   \n",
       "3    2019  Christian Yelich  MIL  130  580  44  100   97  30  13.8  20.3   \n",
       "4    2017        Mike Trout  LAA  114  507  33   92   72  22  18.5  17.8   \n",
       "\n",
       "     ISO  BABIP    AVG    OBP    SLG    OPS   wOBA  wRCp  BsR   Off   Def  \\\n",
       "0  0.319  0.369  0.330  0.460  0.649  1.109  0.461   197  3.6  77.7 -10.2   \n",
       "1  0.294  0.368  0.346  0.438  0.640  1.078  0.449   185  6.9  69.3  13.3   \n",
       "2  0.316  0.346  0.312  0.460  0.628  1.088  0.447   188  5.0  69.2   2.1   \n",
       "3  0.342  0.355  0.329  0.429  0.671  1.100  0.442   174  8.5  65.2  -9.0   \n",
       "4  0.323  0.318  0.306  0.442  0.629  1.071  0.437   180  4.0  54.4  -7.5   \n",
       "\n",
       "    WAR  playerid  \n",
       "0   9.3     11579  \n",
       "1  10.6     13611  \n",
       "2   9.5     10155  \n",
       "3   7.3     11477  \n",
       "4   6.4     10155  "
      ]
     },
     "execution_count": 95,
     "metadata": {},
     "output_type": "execute_result"
    }
   ],
   "source": [
    "batting.head()"
   ]
  },
  {
   "cell_type": "code",
   "execution_count": 96,
   "metadata": {},
   "outputs": [],
   "source": [
    "import matplotlib.pyplot as plt\n",
    "%matplotlib inline"
   ]
  },
  {
   "cell_type": "code",
   "execution_count": 97,
   "metadata": {},
   "outputs": [
    {
     "data": {
      "text/plain": [
       "Text(0.5, 1.0, 'Distribution of HRs')"
      ]
     },
     "execution_count": 97,
     "metadata": {},
     "output_type": "execute_result"
    },
    {
     "data": {
      "image/png": "[encoded data removed]",
      "text/plain": [
       "<Figure size 432x288 with 1 Axes>"
      ]
     },
     "metadata": {
      "needs_background": "light"
     },
     "output_type": "display_data"
    }
   ],
   "source": [
    "plt.hist(batting['HR'])\n",
    "plt.xlabel('HRs')\n",
    "plt.title('Distribution of HRs')"
   ]
  },
  {
   "cell_type": "code",
   "execution_count": 98,
   "metadata": {},
   "outputs": [
    {
     "data": {
      "text/plain": [
       "20.88849765258216"
      ]
     },
     "execution_count": 98,
     "metadata": {},
     "output_type": "execute_result"
    }
   ],
   "source": [
    "batting['HR'].mean()"
   ]
  },
  {
   "cell_type": "code",
   "execution_count": 99,
   "metadata": {},
   "outputs": [
    {
     "data": {
      "text/plain": [
       "True"
      ]
     },
     "execution_count": 99,
     "metadata": {},
     "output_type": "execute_result"
    }
   ],
   "source": [
    "v = 1\n",
    "\n",
    "b = 2\n",
    "\n",
    "b > v"
   ]
  },
  {
   "cell_type": "code",
   "execution_count": 100,
   "metadata": {},
   "outputs": [],
   "source": [
    "def assign_ops_bins(hrs):\n",
    "    if hrs >= 1 and hrs <= 9:\n",
    "        return 1\n",
    "    if hrs >= 10 and hrs <= 19:\n",
    "        return 2\n",
    "    if hrs >= 20 and hrs <= 29:\n",
    "        return 3\n",
    "    if hrs >= 30 and hrs <= 39:\n",
    "        return 4\n",
    "    if hrs >= 40 and hrs <= 49:\n",
    "        return 5\n",
    "    if hrs >= 50 and hrs <= 59:\n",
    "        return 6\n",
    "    if hrs >= 60 and hrs <= 69:\n",
    "        return 7\n",
    "    else:\n",
    "        return 0\n",
    "\n",
    "batting['hr_bins'] = batting['HR'].apply(assign_ops_bins)"
   ]
  },
  {
   "cell_type": "code",
   "execution_count": 101,
   "metadata": {},
   "outputs": [
    {
     "data": {
      "text/html": [
       "<div>\n",
       "<style scoped>\n",
       "    .dataframe tbody tr th:only-of-type {\n",
       "        vertical-align: middle;\n",
       "    }\n",
       "\n",
       "    .dataframe tbody tr th {\n",
       "        vertical-align: top;\n",
       "    }\n",
       "\n",
       "    .dataframe thead th {\n",
       "        text-align: right;\n",
       "    }\n",
       "</style>\n",
       "<table border=\"1\" class=\"dataframe\">\n",
       "  <thead>\n",
       "    <tr style=\"text-align: right;\">\n",
       "      <th></th>\n",
       "      <th>Season</th>\n",
       "      <th>Name</th>\n",
       "      <th>Team</th>\n",
       "      <th>G</th>\n",
       "      <th>PA</th>\n",
       "      <th>HR</th>\n",
       "      <th>R</th>\n",
       "      <th>RBI</th>\n",
       "      <th>SB</th>\n",
       "      <th>BB</th>\n",
       "      <th>K</th>\n",
       "      <th>ISO</th>\n",
       "      <th>BABIP</th>\n",
       "      <th>AVG</th>\n",
       "      <th>OBP</th>\n",
       "      <th>SLG</th>\n",
       "      <th>OPS</th>\n",
       "      <th>wOBA</th>\n",
       "      <th>wRCp</th>\n",
       "      <th>BsR</th>\n",
       "      <th>Off</th>\n",
       "      <th>Def</th>\n",
       "      <th>WAR</th>\n",
       "      <th>playerid</th>\n",
       "      <th>hr_bins</th>\n",
       "    </tr>\n",
       "  </thead>\n",
       "  <tbody>\n",
       "    <tr>\n",
       "      <th>0</th>\n",
       "      <td>2015</td>\n",
       "      <td>Bryce Harper</td>\n",
       "      <td>WSN</td>\n",
       "      <td>153</td>\n",
       "      <td>654</td>\n",
       "      <td>42</td>\n",
       "      <td>118</td>\n",
       "      <td>99</td>\n",
       "      <td>6</td>\n",
       "      <td>19.0</td>\n",
       "      <td>20.0</td>\n",
       "      <td>0.319</td>\n",
       "      <td>0.369</td>\n",
       "      <td>0.330</td>\n",
       "      <td>0.460</td>\n",
       "      <td>0.649</td>\n",
       "      <td>1.109</td>\n",
       "      <td>0.461</td>\n",
       "      <td>197</td>\n",
       "      <td>3.6</td>\n",
       "      <td>77.7</td>\n",
       "      <td>-10.2</td>\n",
       "      <td>9.3</td>\n",
       "      <td>11579</td>\n",
       "      <td>5</td>\n",
       "    </tr>\n",
       "    <tr>\n",
       "      <th>1</th>\n",
       "      <td>2018</td>\n",
       "      <td>Mookie Betts</td>\n",
       "      <td>BOS</td>\n",
       "      <td>136</td>\n",
       "      <td>614</td>\n",
       "      <td>32</td>\n",
       "      <td>129</td>\n",
       "      <td>80</td>\n",
       "      <td>30</td>\n",
       "      <td>13.2</td>\n",
       "      <td>14.8</td>\n",
       "      <td>0.294</td>\n",
       "      <td>0.368</td>\n",
       "      <td>0.346</td>\n",
       "      <td>0.438</td>\n",
       "      <td>0.640</td>\n",
       "      <td>1.078</td>\n",
       "      <td>0.449</td>\n",
       "      <td>185</td>\n",
       "      <td>6.9</td>\n",
       "      <td>69.3</td>\n",
       "      <td>13.3</td>\n",
       "      <td>10.6</td>\n",
       "      <td>13611</td>\n",
       "      <td>4</td>\n",
       "    </tr>\n",
       "    <tr>\n",
       "      <th>2</th>\n",
       "      <td>2018</td>\n",
       "      <td>Mike Trout</td>\n",
       "      <td>LAA</td>\n",
       "      <td>140</td>\n",
       "      <td>608</td>\n",
       "      <td>39</td>\n",
       "      <td>101</td>\n",
       "      <td>79</td>\n",
       "      <td>24</td>\n",
       "      <td>20.1</td>\n",
       "      <td>20.4</td>\n",
       "      <td>0.316</td>\n",
       "      <td>0.346</td>\n",
       "      <td>0.312</td>\n",
       "      <td>0.460</td>\n",
       "      <td>0.628</td>\n",
       "      <td>1.088</td>\n",
       "      <td>0.447</td>\n",
       "      <td>188</td>\n",
       "      <td>5.0</td>\n",
       "      <td>69.2</td>\n",
       "      <td>2.1</td>\n",
       "      <td>9.5</td>\n",
       "      <td>10155</td>\n",
       "      <td>4</td>\n",
       "    </tr>\n",
       "    <tr>\n",
       "      <th>3</th>\n",
       "      <td>2019</td>\n",
       "      <td>Christian Yelich</td>\n",
       "      <td>MIL</td>\n",
       "      <td>130</td>\n",
       "      <td>580</td>\n",
       "      <td>44</td>\n",
       "      <td>100</td>\n",
       "      <td>97</td>\n",
       "      <td>30</td>\n",
       "      <td>13.8</td>\n",
       "      <td>20.3</td>\n",
       "      <td>0.342</td>\n",
       "      <td>0.355</td>\n",
       "      <td>0.329</td>\n",
       "      <td>0.429</td>\n",
       "      <td>0.671</td>\n",
       "      <td>1.100</td>\n",
       "      <td>0.442</td>\n",
       "      <td>174</td>\n",
       "      <td>8.5</td>\n",
       "      <td>65.2</td>\n",
       "      <td>-9.0</td>\n",
       "      <td>7.3</td>\n",
       "      <td>11477</td>\n",
       "      <td>5</td>\n",
       "    </tr>\n",
       "    <tr>\n",
       "      <th>4</th>\n",
       "      <td>2017</td>\n",
       "      <td>Mike Trout</td>\n",
       "      <td>LAA</td>\n",
       "      <td>114</td>\n",
       "      <td>507</td>\n",
       "      <td>33</td>\n",
       "      <td>92</td>\n",
       "      <td>72</td>\n",
       "      <td>22</td>\n",
       "      <td>18.5</td>\n",
       "      <td>17.8</td>\n",
       "      <td>0.323</td>\n",
       "      <td>0.318</td>\n",
       "      <td>0.306</td>\n",
       "      <td>0.442</td>\n",
       "      <td>0.629</td>\n",
       "      <td>1.071</td>\n",
       "      <td>0.437</td>\n",
       "      <td>180</td>\n",
       "      <td>4.0</td>\n",
       "      <td>54.4</td>\n",
       "      <td>-7.5</td>\n",
       "      <td>6.4</td>\n",
       "      <td>10155</td>\n",
       "      <td>4</td>\n",
       "    </tr>\n",
       "  </tbody>\n",
       "</table>\n",
       "</div>"
      ],
      "text/plain": [
       "   Season              Name Team    G   PA  HR    R  RBI  SB    BB     K  \\\n",
       "0    2015      Bryce Harper  WSN  153  654  42  118   99   6  19.0  20.0   \n",
       "1    2018      Mookie Betts  BOS  136  614  32  129   80  30  13.2  14.8   \n",
       "2    2018        Mike Trout  LAA  140  608  39  101   79  24  20.1  20.4   \n",
       "3    2019  Christian Yelich  MIL  130  580  44  100   97  30  13.8  20.3   \n",
       "4    2017        Mike Trout  LAA  114  507  33   92   72  22  18.5  17.8   \n",
       "\n",
       "     ISO  BABIP    AVG    OBP    SLG    OPS   wOBA  wRCp  BsR   Off   Def  \\\n",
       "0  0.319  0.369  0.330  0.460  0.649  1.109  0.461   197  3.6  77.7 -10.2   \n",
       "1  0.294  0.368  0.346  0.438  0.640  1.078  0.449   185  6.9  69.3  13.3   \n",
       "2  0.316  0.346  0.312  0.460  0.628  1.088  0.447   188  5.0  69.2   2.1   \n",
       "3  0.342  0.355  0.329  0.429  0.671  1.100  0.442   174  8.5  65.2  -9.0   \n",
       "4  0.323  0.318  0.306  0.442  0.629  1.071  0.437   180  4.0  54.4  -7.5   \n",
       "\n",
       "    WAR  playerid  hr_bins  \n",
       "0   9.3     11579        5  \n",
       "1  10.6     13611        4  \n",
       "2   9.5     10155        4  \n",
       "3   7.3     11477        5  \n",
       "4   6.4     10155        4  "
      ]
     },
     "execution_count": 101,
     "metadata": {},
     "output_type": "execute_result"
    }
   ],
   "source": [
    "batting.head()"
   ]
  },
  {
   "cell_type": "code",
   "execution_count": 102,
   "metadata": {},
   "outputs": [
    {
     "data": {
      "text/plain": [
       "Text(0, 0.5, 'HRs')"
      ]
     },
     "execution_count": 102,
     "metadata": {},
     "output_type": "execute_result"
    },
    {
     "data": {
      "image/png": "[encoded data removed]",
      "text/plain": [
       "<Figure size 432x288 with 1 Axes>"
      ]
     },
     "metadata": {
      "needs_background": "light"
     },
     "output_type": "display_data"
    }
   ],
   "source": [
    "plt.scatter(batting['Season'], batting['HR'], c=batting['hr_bins'])\n",
    "plt.title('HRs scatter plot')\n",
    "plt.xlabel('Year')\n",
    "plt.ylabel('HRs')"
   ]
  },
  {
   "cell_type": "code",
   "execution_count": 103,
   "metadata": {},
   "outputs": [
    {
     "name": "stdout",
     "output_type": "stream",
     "text": [
      "{2015: 2607, 2018: 2921, 2019: 3460, 2017: 3295, 2016: 3227, 2014: 2287}\n",
      "{2015: 20783, 2018: 20461, 2019: 19512, 2017: 21018, 2016: 21634, 2014: 21185}\n"
     ]
    }
   ],
   "source": [
    "hrs_per_year = {}\n",
    "gs_per_year = {}\n",
    "\n",
    "for i, row in batting.iterrows():\n",
    "    year = row['Season']\n",
    "    hrs = row['HR']\n",
    "    games = row['G']\n",
    "    if year in hrs_per_year:\n",
    "        hrs_per_year[year] = hrs_per_year[year] + hrs\n",
    "        gs_per_year[year] = gs_per_year[year] + games\n",
    "    else:\n",
    "        hrs_per_year[year] = hrs\n",
    "        gs_per_year[year] = games\n",
    "\n",
    "\n",
    "print(hrs_per_year)\n",
    "print(gs_per_year)"
   ]
  },
  {
   "cell_type": "code",
   "execution_count": 104,
   "metadata": {},
   "outputs": [
    {
     "name": "stdout",
     "output_type": "stream",
     "text": [
      "{2015: 0.1254390607708223, 2018: 0.1427593959239529, 2019: 0.1773267732677327, 2017: 0.15677038728708725, 2016: 0.14916335397984654, 2014: 0.1079537408543781}\n"
     ]
    }
   ],
   "source": [
    "hrs_per_game = {}\n",
    "\n",
    "for k, v, in gs_per_year.items():\n",
    "    year = k\n",
    "    games = v\n",
    "    hrs = hrs_per_year[year] \n",
    "    hrs_per_game[year] = hrs / games\n",
    "\n",
    "print(hrs_per_game)"
   ]
  },
  {
   "cell_type": "code",
   "execution_count": 105,
   "metadata": {},
   "outputs": [
    {
     "data": {
      "text/plain": [
       "Text(0, 0.5, 'HRs per game')"
      ]
     },
     "execution_count": 105,
     "metadata": {},
     "output_type": "execute_result"
    },
    {
     "data": {
      "image/png": "[encoded data removed]",
      "text/plain": [
       "<Figure size 432x288 with 1 Axes>"
      ]
     },
     "metadata": {
      "needs_background": "light"
     },
     "output_type": "display_data"
    }
   ],
   "source": [
    "lists = sorted(hrs_per_game.items())\n",
    "x, y, = zip(*lists)\n",
    "\n",
    "plt.plot(x, y)\n",
    "plt.title('HRs per game')\n",
    "plt.xlabel('Year')\n",
    "plt.ylabel('HRs per game')"
   ]
  },
  {
   "cell_type": "code",
   "execution_count": 106,
   "metadata": {},
   "outputs": [
    {
     "data": {
      "text/plain": [
       "{2015: 0.1254390607708223,\n",
       " 2018: 0.1427593959239529,\n",
       " 2019: 0.1773267732677327,\n",
       " 2017: 0.15677038728708725,\n",
       " 2016: 0.14916335397984654,\n",
       " 2014: 0.1079537408543781}"
      ]
     },
     "execution_count": 106,
     "metadata": {},
     "output_type": "execute_result"
    }
   ],
   "source": [
    "hrs_per_game"
   ]
  },
  {
   "cell_type": "code",
   "execution_count": 107,
   "metadata": {},
   "outputs": [
    {
     "data": {
      "text/plain": [
       "Season      0.226637\n",
       "G           0.122713\n",
       "PA          0.336695\n",
       "HR          0.728812\n",
       "R           0.688532\n",
       "RBI         0.693239\n",
       "SB         -0.049708\n",
       "ISO         0.810926\n",
       "BABIP       0.383813\n",
       "AVG         0.616094\n",
       "OBP         0.835156\n",
       "SLG         0.959779\n",
       "OPS         1.000000\n",
       "wOBA        0.986392\n",
       "wRCp        0.947064\n",
       "BsR         0.004578\n",
       "Off         0.927194\n",
       "Def        -0.174563\n",
       "WAR         0.751022\n",
       "playerid    0.117433\n",
       "hr_bins     0.689476\n",
       "Name: OPS, dtype: float64"
      ]
     },
     "execution_count": 107,
     "metadata": {},
     "output_type": "execute_result"
    }
   ],
   "source": [
    "batting.corr()['OPS']"
   ]
  },
  {
   "cell_type": "code",
   "execution_count": 108,
   "metadata": {},
   "outputs": [
    {
     "data": {
      "text/plain": [
       "Index(['Season', 'Name', 'Team', 'G', 'PA', 'HR', 'R', 'RBI', 'SB', 'BB', 'K',\n",
       "       'ISO', 'BABIP', 'AVG', 'OBP', 'SLG', 'OPS', 'wOBA', 'wRCp', 'BsR',\n",
       "       'Off', 'Def', 'WAR', 'playerid', 'hr_bins'],\n",
       "      dtype='object')"
      ]
     },
     "execution_count": 108,
     "metadata": {},
     "output_type": "execute_result"
    }
   ],
   "source": [
    "batting.columns"
   ]
  },
  {
   "cell_type": "code",
   "execution_count": 109,
   "metadata": {},
   "outputs": [],
   "source": [
    "attributes = ['Season', 'G', 'PA', 'HR', 'R', 'RBI', 'SB', 'BB', 'K',\n",
    "       'ISO', 'BABIP', 'AVG', 'OBP', 'SLG', 'wOBA', 'wRCp', 'BsR',\n",
    "       'Off', 'Def', 'WAR', 'playerid']"
   ]
  },
  {
   "cell_type": "code",
   "execution_count": 110,
   "metadata": {},
   "outputs": [
    {
     "data": {
      "text/plain": [
       "[0, 0, 0, 0, 0, 0, 0, 0, 0, 0, 0, 0, 0, 0, 0, 0, 0, 0, 0, 0, 0, 0, 0, 0, 0]"
      ]
     },
     "execution_count": 110,
     "metadata": {},
     "output_type": "execute_result"
    }
   ],
   "source": [
    "batting.isnull().sum(axis=0).tolist()"
   ]
  },
  {
   "cell_type": "code",
   "execution_count": 111,
   "metadata": {},
   "outputs": [],
   "source": [
    "data_attributes = batting[attributes]"
   ]
  },
  {
   "cell_type": "code",
   "execution_count": 112,
   "metadata": {},
   "outputs": [],
   "source": [
    "from sklearn.cluster import KMeans\n",
    "from sklearn import metrics"
   ]
  },
  {
   "cell_type": "code",
   "execution_count": 113,
   "metadata": {},
   "outputs": [
    {
     "name": "stdout",
     "output_type": "stream",
     "text": [
      "{2: [0.6277677340213027], 3: [0.571464551153856], 4: [0.5517707240968891], 5: [0.5864489075822527], 6: [0.5645041168181651], 7: [0.556102756997197], 8: [0.5566247708305758], 9: [0.5683774245321394], 10: [0.5754754386126456]}\n"
     ]
    }
   ],
   "source": [
    "s_score_dict = {}\n",
    "\n",
    "for i in range(2, 11):\n",
    "    km = KMeans(n_clusters=i, random_state=1)\n",
    "    l = km.fit_predict(data_attributes)\n",
    "    s_s = metrics.silhouette_score(data_attributes, l)\n",
    "    s_score_dict[i] = [s_s]\n",
    "\n",
    "print(s_score_dict)"
   ]
  },
  {
   "cell_type": "code",
   "execution_count": 114,
   "metadata": {},
   "outputs": [
    {
     "data": {
      "text/plain": [
       "<matplotlib.collections.PathCollection at 0x29249e3d0>"
      ]
     },
     "execution_count": 114,
     "metadata": {},
     "output_type": "execute_result"
    },
    {
     "data": {
      "image/png": "[encoded data removed]",
      "text/plain": [
       "<Figure size 432x288 with 1 Axes>"
      ]
     },
     "metadata": {
      "needs_background": "light"
     },
     "output_type": "display_data"
    }
   ],
   "source": [
    "kmeans_ops_model = KMeans(n_clusters=2, random_state=1)\n",
    "distances = kmeans_ops_model.fit_transform(data_attributes)\n",
    "\n",
    "labels = kmeans_ops_model.labels_\n",
    "\n",
    "plt.scatter(distances[:,0], distances[:,1], c=labels)"
   ]
  },
  {
   "cell_type": "code",
   "execution_count": 115,
   "metadata": {},
   "outputs": [],
   "source": [
    "batting['labels'] = labels\n",
    "attributes.append('labels')\n",
    "\n",
    "#batting.head(50)"
   ]
  },
  {
   "cell_type": "code",
   "execution_count": 116,
   "metadata": {},
   "outputs": [
    {
     "data": {
      "text/plain": [
       "Index(['Season', 'Name', 'Team', 'G', 'PA', 'HR', 'R', 'RBI', 'SB', 'BB', 'K',\n",
       "       'ISO', 'BABIP', 'AVG', 'OBP', 'SLG', 'OPS', 'wOBA', 'wRCp', 'BsR',\n",
       "       'Off', 'Def', 'WAR', 'playerid', 'hr_bins', 'labels'],\n",
       "      dtype='object')"
      ]
     },
     "execution_count": 116,
     "metadata": {},
     "output_type": "execute_result"
    }
   ],
   "source": [
    "batting.columns"
   ]
  },
  {
   "cell_type": "code",
   "execution_count": 118,
   "metadata": {},
   "outputs": [],
   "source": [
    "numeric_cols = ['Season', 'G', 'PA', 'HR', 'R', 'RBI', 'SB', 'BB', 'K',\n",
    "       'ISO', 'BABIP', 'AVG', 'OBP', 'SLG', 'OPS', 'wOBA', 'wRCp', 'BsR',\n",
    "       'Off', 'Def', 'WAR', 'playerid', 'hr_bins', 'labels']"
   ]
  },
  {
   "cell_type": "code",
   "execution_count": 119,
   "metadata": {},
   "outputs": [],
   "source": [
    "data = batting[numeric_cols]"
   ]
  },
  {
   "cell_type": "code",
   "execution_count": 120,
   "metadata": {},
   "outputs": [],
   "source": [
    "train = data.sample(frac=0.75, random_state=1)\n",
    "test = data.loc[~data.index.isin(train.index)]"
   ]
  },
  {
   "cell_type": "code",
   "execution_count": 121,
   "metadata": {},
   "outputs": [],
   "source": [
    "x_train = train[attributes]\n",
    "y_train = train['OPS']\n",
    "\n",
    "x_test = test[attributes]\n",
    "y_test = test['OPS']"
   ]
  },
  {
   "cell_type": "code",
   "execution_count": 122,
   "metadata": {},
   "outputs": [],
   "source": [
    "from sklearn.linear_model import LinearRegression\n",
    "from sklearn.metrics import mean_absolute_error"
   ]
  },
  {
   "cell_type": "code",
   "execution_count": null,
   "metadata": {},
   "outputs": [],
   "source": [
    "lr = LinearRegression(normalize=True)\n",
    "lr.fit(x_train, y_train)\n",
    "predictions = lr.predict(x_test)\n",
    "\n",
    "mae = mean_absolute_error(y_test, predictions)\n",
    "\n",
    "print(mae)"
   ]
  },
  {
   "cell_type": "code",
   "execution_count": 136,
   "metadata": {},
   "outputs": [],
   "source": [
    "predictions = pd.Series(predictions)"
   ]
  },
  {
   "cell_type": "code",
   "execution_count": 137,
   "metadata": {},
   "outputs": [],
   "source": [
    "data = {\n",
    "    'Name': batting_names,\n",
    "    'xOPS': predictions\n",
    "}"
   ]
  },
  {
   "cell_type": "code",
   "execution_count": 138,
   "metadata": {},
   "outputs": [],
   "source": [
    "df = pd.concat(data, axis = 1)"
   ]
  },
  {
   "cell_type": "code",
   "execution_count": 140,
   "metadata": {},
   "outputs": [
    {
     "data": {
      "text/html": [
       "<div>\n",
       "<style scoped>\n",
       "    .dataframe tbody tr th:only-of-type {\n",
       "        vertical-align: middle;\n",
       "    }\n",
       "\n",
       "    .dataframe tbody tr th {\n",
       "        vertical-align: top;\n",
       "    }\n",
       "\n",
       "    .dataframe thead th {\n",
       "        text-align: right;\n",
       "    }\n",
       "</style>\n",
       "<table border=\"1\" class=\"dataframe\">\n",
       "  <thead>\n",
       "    <tr style=\"text-align: right;\">\n",
       "      <th></th>\n",
       "      <th>Name</th>\n",
       "      <th>xOPS</th>\n",
       "    </tr>\n",
       "  </thead>\n",
       "  <tbody>\n",
       "    <tr>\n",
       "      <th>0</th>\n",
       "      <td>Bryce Harper</td>\n",
       "      <td>1.031715</td>\n",
       "    </tr>\n",
       "    <tr>\n",
       "      <th>1</th>\n",
       "      <td>Mookie Betts</td>\n",
       "      <td>0.999964</td>\n",
       "    </tr>\n",
       "    <tr>\n",
       "      <th>2</th>\n",
       "      <td>Mike Trout</td>\n",
       "      <td>1.030816</td>\n",
       "    </tr>\n",
       "    <tr>\n",
       "      <th>3</th>\n",
       "      <td>Christian Yelich</td>\n",
       "      <td>0.984081</td>\n",
       "    </tr>\n",
       "    <tr>\n",
       "      <th>4</th>\n",
       "      <td>Mike Trout</td>\n",
       "      <td>1.009635</td>\n",
       "    </tr>\n",
       "    <tr>\n",
       "      <th>5</th>\n",
       "      <td>Mike Trout</td>\n",
       "      <td>0.952053</td>\n",
       "    </tr>\n",
       "    <tr>\n",
       "      <th>6</th>\n",
       "      <td>Aaron Judge</td>\n",
       "      <td>1.006866</td>\n",
       "    </tr>\n",
       "    <tr>\n",
       "      <th>7</th>\n",
       "      <td>Joey Votto</td>\n",
       "      <td>0.985018</td>\n",
       "    </tr>\n",
       "    <tr>\n",
       "      <th>8</th>\n",
       "      <td>J.D. Martinez</td>\n",
       "      <td>0.957172</td>\n",
       "    </tr>\n",
       "    <tr>\n",
       "      <th>9</th>\n",
       "      <td>Joey Votto</td>\n",
       "      <td>0.944686</td>\n",
       "    </tr>\n",
       "    <tr>\n",
       "      <th>10</th>\n",
       "      <td>Christian Yelich</td>\n",
       "      <td>0.956949</td>\n",
       "    </tr>\n",
       "    <tr>\n",
       "      <th>11</th>\n",
       "      <td>David Ortiz</td>\n",
       "      <td>0.935758</td>\n",
       "    </tr>\n",
       "    <tr>\n",
       "      <th>12</th>\n",
       "      <td>Alex Bregman</td>\n",
       "      <td>0.938988</td>\n",
       "    </tr>\n",
       "    <tr>\n",
       "      <th>13</th>\n",
       "      <td>Mike Trout</td>\n",
       "      <td>0.901129</td>\n",
       "    </tr>\n",
       "    <tr>\n",
       "      <th>14</th>\n",
       "      <td>Paul Goldschmidt</td>\n",
       "      <td>0.890632</td>\n",
       "    </tr>\n",
       "    <tr>\n",
       "      <th>15</th>\n",
       "      <td>Nelson Cruz</td>\n",
       "      <td>0.931614</td>\n",
       "    </tr>\n",
       "    <tr>\n",
       "      <th>16</th>\n",
       "      <td>Cody Bellinger</td>\n",
       "      <td>0.886500</td>\n",
       "    </tr>\n",
       "    <tr>\n",
       "      <th>17</th>\n",
       "      <td>Mike Trout</td>\n",
       "      <td>0.915109</td>\n",
       "    </tr>\n",
       "    <tr>\n",
       "      <th>18</th>\n",
       "      <td>Charlie Blackmon</td>\n",
       "      <td>0.898811</td>\n",
       "    </tr>\n",
       "    <tr>\n",
       "      <th>19</th>\n",
       "      <td>Miguel Cabrera</td>\n",
       "      <td>0.914920</td>\n",
       "    </tr>\n",
       "    <tr>\n",
       "      <th>20</th>\n",
       "      <td>Joey Votto</td>\n",
       "      <td>0.888893</td>\n",
       "    </tr>\n",
       "    <tr>\n",
       "      <th>21</th>\n",
       "      <td>Anthony Rendon</td>\n",
       "      <td>0.862331</td>\n",
       "    </tr>\n",
       "    <tr>\n",
       "      <th>22</th>\n",
       "      <td>Andrew McCutchen</td>\n",
       "      <td>0.859884</td>\n",
       "    </tr>\n",
       "    <tr>\n",
       "      <th>23</th>\n",
       "      <td>Victor Martinez</td>\n",
       "      <td>0.869911</td>\n",
       "    </tr>\n",
       "    <tr>\n",
       "      <th>24</th>\n",
       "      <td>Jose Abreu</td>\n",
       "      <td>0.879019</td>\n",
       "    </tr>\n",
       "    <tr>\n",
       "      <th>25</th>\n",
       "      <td>Giancarlo Stanton</td>\n",
       "      <td>0.884045</td>\n",
       "    </tr>\n",
       "    <tr>\n",
       "      <th>26</th>\n",
       "      <td>Daniel Murphy</td>\n",
       "      <td>0.879739</td>\n",
       "    </tr>\n",
       "    <tr>\n",
       "      <th>27</th>\n",
       "      <td>Freddie Freeman</td>\n",
       "      <td>0.856933</td>\n",
       "    </tr>\n",
       "    <tr>\n",
       "      <th>28</th>\n",
       "      <td>Jose Altuve</td>\n",
       "      <td>0.861205</td>\n",
       "    </tr>\n",
       "    <tr>\n",
       "      <th>29</th>\n",
       "      <td>Ketel Marte</td>\n",
       "      <td>0.886118</td>\n",
       "    </tr>\n",
       "    <tr>\n",
       "      <th>30</th>\n",
       "      <td>Giancarlo Stanton</td>\n",
       "      <td>0.863967</td>\n",
       "    </tr>\n",
       "    <tr>\n",
       "      <th>31</th>\n",
       "      <td>Josh Donaldson</td>\n",
       "      <td>0.872373</td>\n",
       "    </tr>\n",
       "    <tr>\n",
       "      <th>32</th>\n",
       "      <td>Mike Trout</td>\n",
       "      <td>0.882968</td>\n",
       "    </tr>\n",
       "    <tr>\n",
       "      <th>33</th>\n",
       "      <td>Jose Bautista</td>\n",
       "      <td>0.837979</td>\n",
       "    </tr>\n",
       "    <tr>\n",
       "      <th>34</th>\n",
       "      <td>Freddie Freeman</td>\n",
       "      <td>0.874494</td>\n",
       "    </tr>\n",
       "    <tr>\n",
       "      <th>35</th>\n",
       "      <td>George Springer</td>\n",
       "      <td>0.854017</td>\n",
       "    </tr>\n",
       "    <tr>\n",
       "      <th>36</th>\n",
       "      <td>Paul Goldschmidt</td>\n",
       "      <td>0.837862</td>\n",
       "    </tr>\n",
       "    <tr>\n",
       "      <th>37</th>\n",
       "      <td>Justin Turner</td>\n",
       "      <td>0.853858</td>\n",
       "    </tr>\n",
       "    <tr>\n",
       "      <th>38</th>\n",
       "      <td>Kris Bryant</td>\n",
       "      <td>0.836910</td>\n",
       "    </tr>\n",
       "    <tr>\n",
       "      <th>39</th>\n",
       "      <td>Miguel Cabrera</td>\n",
       "      <td>0.830036</td>\n",
       "    </tr>\n",
       "    <tr>\n",
       "      <th>40</th>\n",
       "      <td>Tommy Pham</td>\n",
       "      <td>0.876838</td>\n",
       "    </tr>\n",
       "    <tr>\n",
       "      <th>41</th>\n",
       "      <td>Josh Donaldson</td>\n",
       "      <td>0.849945</td>\n",
       "    </tr>\n",
       "    <tr>\n",
       "      <th>42</th>\n",
       "      <td>Anthony Rizzo</td>\n",
       "      <td>0.849928</td>\n",
       "    </tr>\n",
       "    <tr>\n",
       "      <th>43</th>\n",
       "      <td>Jose Ramirez</td>\n",
       "      <td>0.829969</td>\n",
       "    </tr>\n",
       "    <tr>\n",
       "      <th>44</th>\n",
       "      <td>Kris Bryant</td>\n",
       "      <td>0.834453</td>\n",
       "    </tr>\n",
       "    <tr>\n",
       "      <th>45</th>\n",
       "      <td>Nelson Cruz</td>\n",
       "      <td>0.810949</td>\n",
       "    </tr>\n",
       "    <tr>\n",
       "      <th>46</th>\n",
       "      <td>Alex Bregman</td>\n",
       "      <td>0.838361</td>\n",
       "    </tr>\n",
       "    <tr>\n",
       "      <th>47</th>\n",
       "      <td>Nolan Arenado</td>\n",
       "      <td>0.869903</td>\n",
       "    </tr>\n",
       "    <tr>\n",
       "      <th>48</th>\n",
       "      <td>Anthony Rendon</td>\n",
       "      <td>0.812046</td>\n",
       "    </tr>\n",
       "    <tr>\n",
       "      <th>49</th>\n",
       "      <td>Juan Soto</td>\n",
       "      <td>0.845834</td>\n",
       "    </tr>\n",
       "  </tbody>\n",
       "</table>\n",
       "</div>"
      ],
      "text/plain": [
       "                 Name      xOPS\n",
       "0        Bryce Harper  1.031715\n",
       "1        Mookie Betts  0.999964\n",
       "2          Mike Trout  1.030816\n",
       "3    Christian Yelich  0.984081\n",
       "4          Mike Trout  1.009635\n",
       "5          Mike Trout  0.952053\n",
       "6         Aaron Judge  1.006866\n",
       "7          Joey Votto  0.985018\n",
       "8       J.D. Martinez  0.957172\n",
       "9          Joey Votto  0.944686\n",
       "10   Christian Yelich  0.956949\n",
       "11        David Ortiz  0.935758\n",
       "12       Alex Bregman  0.938988\n",
       "13         Mike Trout  0.901129\n",
       "14   Paul Goldschmidt  0.890632\n",
       "15        Nelson Cruz  0.931614\n",
       "16     Cody Bellinger  0.886500\n",
       "17         Mike Trout  0.915109\n",
       "18   Charlie Blackmon  0.898811\n",
       "19     Miguel Cabrera  0.914920\n",
       "20         Joey Votto  0.888893\n",
       "21     Anthony Rendon  0.862331\n",
       "22   Andrew McCutchen  0.859884\n",
       "23    Victor Martinez  0.869911\n",
       "24         Jose Abreu  0.879019\n",
       "25  Giancarlo Stanton  0.884045\n",
       "26      Daniel Murphy  0.879739\n",
       "27    Freddie Freeman  0.856933\n",
       "28        Jose Altuve  0.861205\n",
       "29        Ketel Marte  0.886118\n",
       "30  Giancarlo Stanton  0.863967\n",
       "31     Josh Donaldson  0.872373\n",
       "32         Mike Trout  0.882968\n",
       "33      Jose Bautista  0.837979\n",
       "34    Freddie Freeman  0.874494\n",
       "35    George Springer  0.854017\n",
       "36   Paul Goldschmidt  0.837862\n",
       "37      Justin Turner  0.853858\n",
       "38        Kris Bryant  0.836910\n",
       "39     Miguel Cabrera  0.830036\n",
       "40         Tommy Pham  0.876838\n",
       "41     Josh Donaldson  0.849945\n",
       "42      Anthony Rizzo  0.849928\n",
       "43       Jose Ramirez  0.829969\n",
       "44        Kris Bryant  0.834453\n",
       "45        Nelson Cruz  0.810949\n",
       "46       Alex Bregman  0.838361\n",
       "47      Nolan Arenado  0.869903\n",
       "48     Anthony Rendon  0.812046\n",
       "49          Juan Soto  0.845834"
      ]
     },
     "execution_count": 140,
     "metadata": {},
     "output_type": "execute_result"
    }
   ],
   "source": [
    "df.head(50)"
   ]
  },
  {
   "cell_type": "code",
   "execution_count": 124,
   "metadata": {},
   "outputs": [],
   "source": [
    "from sklearn.linear_model import RidgeCV"
   ]
  },
  {
   "cell_type": "code",
   "execution_count": 125,
   "metadata": {},
   "outputs": [
    {
     "name": "stdout",
     "output_type": "stream",
     "text": [
      "0.001332935743241145\n"
     ]
    },
    {
     "name": "stderr",
     "output_type": "stream",
     "text": [
      "/opt/homebrew/lib/python3.9/site-packages/sklearn/linear_model/_base.py:141: FutureWarning: 'normalize' was deprecated in version 1.0 and will be removed in 1.2.\n",
      "If you wish to scale the data, use Pipeline with a StandardScaler in a preprocessing stage. To reproduce the previous behavior:\n",
      "\n",
      "from sklearn.pipeline import make_pipeline\n",
      "\n",
      "model = make_pipeline(StandardScaler(with_mean=False), _RidgeGCV())\n",
      "\n",
      "If you wish to pass a sample_weight parameter, you need to pass it as a fit parameter to each step of the pipeline as follows:\n",
      "\n",
      "kwargs = {s[0] + '__sample_weight': sample_weight for s in model.steps}\n",
      "model.fit(X, y, **kwargs)\n",
      "\n",
      "Set parameter alphas to: original_alphas * n_samples. \n",
      "  warnings.warn(\n"
     ]
    }
   ],
   "source": [
    "rrm = RidgeCV(alphas = (0.01, 0.1, 1.0, 10.0), normalize=True)\n",
    "rrm.fit(x_train, y_train)\n",
    "predictions_rrm = rrm.predict(x_test)\n",
    "\n",
    "mae_rrm = mean_absolute_error(y_test, predictions_rrm)\n",
    "\n",
    "print(mae_rrm)"
   ]
  },
  {
   "cell_type": "code",
   "execution_count": null,
   "metadata": {},
   "outputs": [],
   "source": []
  }
 ],
 "metadata": {
  "interpreter": {
   "hash": "b0fa6594d8f4cbf19f97940f81e996739fb7646882a419484c72d19e05852a7e"
  },
  "kernelspec": {
   "display_name": "Python 3.9.12 64-bit",
   "language": "python",
   "name": "python3"
  },
  "language_info": {
   "codemirror_mode": {
    "name": "ipython",
    "version": 3
   },
   "file_extension": ".py",
   "mimetype": "text/x-python",
   "name": "python",
   "nbconvert_exporter": "python",
   "pygments_lexer": "ipython3",
   "version": "3.9.12"
  },
  "orig_nbformat": 4
 },
 "nbformat": 4,
 "nbformat_minor": 2
}
