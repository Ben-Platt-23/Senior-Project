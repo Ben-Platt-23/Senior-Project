{
 "cells": [
  {
   "cell_type": "code",
   "execution_count": 9,
   "metadata": {},
   "outputs": [],
   "source": [
    "import pandas as pd\n",
    "pd.set_option('display.max_columns', None)"
   ]
  },
  {
   "cell_type": "code",
   "execution_count": 21,
   "metadata": {},
   "outputs": [],
   "source": [
    "from pybaseball import batting_stats"
   ]
  },
  {
   "cell_type": "code",
   "execution_count": 83,
   "metadata": {},
   "outputs": [
    {
     "data": {
      "text/html": [
       "<div>\n",
       "<style scoped>\n",
       "    .dataframe tbody tr th:only-of-type {\n",
       "        vertical-align: middle;\n",
       "    }\n",
       "\n",
       "    .dataframe tbody tr th {\n",
       "        vertical-align: top;\n",
       "    }\n",
       "\n",
       "    .dataframe thead th {\n",
       "        text-align: right;\n",
       "    }\n",
       "</style>\n",
       "<table border=\"1\" class=\"dataframe\">\n",
       "  <thead>\n",
       "    <tr style=\"text-align: right;\">\n",
       "      <th></th>\n",
       "      <th>HRper</th>\n",
       "      <th>BBper</th>\n",
       "      <th>Kper</th>\n",
       "    </tr>\n",
       "  </thead>\n",
       "  <tbody>\n",
       "    <tr>\n",
       "      <th>9</th>\n",
       "      <td>0.019404</td>\n",
       "      <td>0.087248</td>\n",
       "      <td>0.12661</td>\n",
       "    </tr>\n",
       "  </tbody>\n",
       "</table>\n",
       "</div>"
      ],
      "text/plain": [
       "      HRper     BBper     Kper\n",
       "9  0.019404  0.087248  0.12661"
      ]
     },
     "execution_count": 83,
     "metadata": {},
     "output_type": "execute_result"
    }
   ],
   "source": [
    "tto_70_79 = batting_stats(1970, 1979, ind=0)\n",
    "\n",
    "tto_70_79.rename(columns={'BB%':'BBper', 'K%':'Kper'}, inplace=True)\n",
    "\n",
    "HRper = tto_70_79.HR / tto_70_79.PA\n",
    "BBper = tto_70_79.BBper\n",
    "Kper = tto_70_79.Kper\n",
    "\n",
    "df = pd.DataFrame()\n",
    "\n",
    "df.insert(0, 'HRper', HRper)\n",
    "df.insert(1, 'BBper', BBper)\n",
    "df.insert(2, 'Kper', Kper)\n",
    "\n",
    "tto_70_79 = df\n",
    "\n",
    "tto_70_79.HRper = tto_70_79.HRper.mean()\n",
    "tto_70_79.BBper = tto_70_79.BBper.mean()\n",
    "tto_70_79.Kper = tto_70_79.Kper.mean()\n",
    "\n",
    "tto_70_79 = tto_70_79.drop(tto_70_79.index.to_list()[1:], axis = 0)\n",
    "\n",
    "tto_70_79.head()"
   ]
  },
  {
   "cell_type": "code",
   "execution_count": 85,
   "metadata": {},
   "outputs": [
    {
     "data": {
      "text/html": [
       "<div>\n",
       "<style scoped>\n",
       "    .dataframe tbody tr th:only-of-type {\n",
       "        vertical-align: middle;\n",
       "    }\n",
       "\n",
       "    .dataframe tbody tr th {\n",
       "        vertical-align: top;\n",
       "    }\n",
       "\n",
       "    .dataframe thead th {\n",
       "        text-align: right;\n",
       "    }\n",
       "</style>\n",
       "<table border=\"1\" class=\"dataframe\">\n",
       "  <thead>\n",
       "    <tr style=\"text-align: right;\">\n",
       "      <th></th>\n",
       "      <th>HRper</th>\n",
       "      <th>BBper</th>\n",
       "      <th>Kper</th>\n",
       "    </tr>\n",
       "  </thead>\n",
       "  <tbody>\n",
       "    <tr>\n",
       "      <th>16</th>\n",
       "      <td>0.021122</td>\n",
       "      <td>0.085667</td>\n",
       "      <td>0.133446</td>\n",
       "    </tr>\n",
       "  </tbody>\n",
       "</table>\n",
       "</div>"
      ],
      "text/plain": [
       "       HRper     BBper      Kper\n",
       "16  0.021122  0.085667  0.133446"
      ]
     },
     "execution_count": 85,
     "metadata": {},
     "output_type": "execute_result"
    }
   ],
   "source": [
    "tto_80_89 = batting_stats(1980, 1989, ind=0)\n",
    "\n",
    "tto_80_89.rename(columns={'BB%':'BBper', 'K%':'Kper'}, inplace=True)\n",
    "\n",
    "HRper = tto_80_89.HR / tto_80_89.PA\n",
    "BBper = tto_80_89.BBper\n",
    "Kper = tto_80_89.Kper\n",
    "\n",
    "df = pd.DataFrame()\n",
    "\n",
    "df.insert(0, 'HRper', HRper)\n",
    "df.insert(1, 'BBper', BBper)\n",
    "df.insert(2, 'Kper', Kper)\n",
    "\n",
    "tto_80_89 = df\n",
    "\n",
    "tto_80_89.HRper = tto_80_89.HRper.mean()\n",
    "tto_80_89.BBper = tto_80_89.BBper.mean()\n",
    "tto_80_89.Kper = tto_80_89.Kper.mean()\n",
    "\n",
    "tto_80_89 = tto_80_89.drop(tto_80_89.index.to_list()[1:], axis = 0)\n",
    "\n",
    "tto_80_89.head()"
   ]
  },
  {
   "cell_type": "code",
   "execution_count": 86,
   "metadata": {},
   "outputs": [
    {
     "data": {
      "text/html": [
       "<div>\n",
       "<style scoped>\n",
       "    .dataframe tbody tr th:only-of-type {\n",
       "        vertical-align: middle;\n",
       "    }\n",
       "\n",
       "    .dataframe tbody tr th {\n",
       "        vertical-align: top;\n",
       "    }\n",
       "\n",
       "    .dataframe thead th {\n",
       "        text-align: right;\n",
       "    }\n",
       "</style>\n",
       "<table border=\"1\" class=\"dataframe\">\n",
       "  <thead>\n",
       "    <tr style=\"text-align: right;\">\n",
       "      <th></th>\n",
       "      <th>HRper</th>\n",
       "      <th>BBper</th>\n",
       "      <th>Kper</th>\n",
       "    </tr>\n",
       "  </thead>\n",
       "  <tbody>\n",
       "    <tr>\n",
       "      <th>0</th>\n",
       "      <td>0.024588</td>\n",
       "      <td>0.088449</td>\n",
       "      <td>0.153502</td>\n",
       "    </tr>\n",
       "  </tbody>\n",
       "</table>\n",
       "</div>"
      ],
      "text/plain": [
       "      HRper     BBper      Kper\n",
       "0  0.024588  0.088449  0.153502"
      ]
     },
     "execution_count": 86,
     "metadata": {},
     "output_type": "execute_result"
    }
   ],
   "source": [
    "tto_90_99 = batting_stats(1990, 1999, ind=0)\n",
    "\n",
    "tto_90_99.rename(columns={'BB%':'BBper', 'K%':'Kper'}, inplace=True)\n",
    "\n",
    "HRper = tto_90_99.HR / tto_90_99.PA\n",
    "BBper = tto_90_99.BBper\n",
    "Kper = tto_90_99.Kper\n",
    "\n",
    "df = pd.DataFrame()\n",
    "\n",
    "df.insert(0, 'HRper', HRper)\n",
    "df.insert(1, 'BBper', BBper)\n",
    "df.insert(2, 'Kper', Kper)\n",
    "\n",
    "tto_90_99 = df\n",
    "\n",
    "tto_90_99.HRper = tto_90_99.HRper.mean()\n",
    "tto_90_99.BBper = tto_90_99.BBper.mean()\n",
    "tto_90_99.Kper = tto_90_99.Kper.mean()\n",
    "\n",
    "tto_90_99 = tto_90_99.drop(tto_90_99.index.to_list()[1:], axis = 0)\n",
    "\n",
    "tto_90_99.head()"
   ]
  },
  {
   "cell_type": "code",
   "execution_count": 90,
   "metadata": {},
   "outputs": [
    {
     "data": {
      "text/html": [
       "<div>\n",
       "<style scoped>\n",
       "    .dataframe tbody tr th:only-of-type {\n",
       "        vertical-align: middle;\n",
       "    }\n",
       "\n",
       "    .dataframe tbody tr th {\n",
       "        vertical-align: top;\n",
       "    }\n",
       "\n",
       "    .dataframe thead th {\n",
       "        text-align: right;\n",
       "    }\n",
       "</style>\n",
       "<table border=\"1\" class=\"dataframe\">\n",
       "  <thead>\n",
       "    <tr style=\"text-align: right;\">\n",
       "      <th></th>\n",
       "      <th>HRper</th>\n",
       "      <th>BBper</th>\n",
       "      <th>Kper</th>\n",
       "    </tr>\n",
       "  </thead>\n",
       "  <tbody>\n",
       "    <tr>\n",
       "      <th>5</th>\n",
       "      <td>0.028111</td>\n",
       "      <td>0.08706</td>\n",
       "      <td>0.165614</td>\n",
       "    </tr>\n",
       "  </tbody>\n",
       "</table>\n",
       "</div>"
      ],
      "text/plain": [
       "      HRper    BBper      Kper\n",
       "5  0.028111  0.08706  0.165614"
      ]
     },
     "execution_count": 90,
     "metadata": {},
     "output_type": "execute_result"
    }
   ],
   "source": [
    "tto_00_09 = batting_stats(2000, 2009, ind=0)\n",
    "\n",
    "tto_00_09.rename(columns={'BB%':'BBper', 'K%':'Kper'}, inplace=True)\n",
    "\n",
    "HRper = tto_00_09.HR / tto_00_09.PA\n",
    "BBper = tto_00_09.BBper\n",
    "Kper = tto_00_09.Kper\n",
    "\n",
    "df = pd.DataFrame()\n",
    "\n",
    "df.insert(0, 'HRper', HRper)\n",
    "df.insert(1, 'BBper', BBper)\n",
    "df.insert(2, 'Kper', Kper)\n",
    "\n",
    "tto_00_09 = df\n",
    "\n",
    "tto_00_09.HRper = tto_00_09.HRper.mean()\n",
    "tto_00_09.BBper = tto_00_09.BBper.mean()\n",
    "tto_00_09.Kper = tto_00_09.Kper.mean()\n",
    "\n",
    "tto_00_09 = tto_00_09.drop(tto_00_09.index.to_list()[1:], axis = 0)\n",
    "\n",
    "tto_00_09.head()"
   ]
  },
  {
   "cell_type": "code",
   "execution_count": 91,
   "metadata": {},
   "outputs": [
    {
     "data": {
      "text/html": [
       "<div>\n",
       "<style scoped>\n",
       "    .dataframe tbody tr th:only-of-type {\n",
       "        vertical-align: middle;\n",
       "    }\n",
       "\n",
       "    .dataframe tbody tr th {\n",
       "        vertical-align: top;\n",
       "    }\n",
       "\n",
       "    .dataframe thead th {\n",
       "        text-align: right;\n",
       "    }\n",
       "</style>\n",
       "<table border=\"1\" class=\"dataframe\">\n",
       "  <thead>\n",
       "    <tr style=\"text-align: right;\">\n",
       "      <th></th>\n",
       "      <th>HRper</th>\n",
       "      <th>BBper</th>\n",
       "      <th>Kper</th>\n",
       "    </tr>\n",
       "  </thead>\n",
       "  <tbody>\n",
       "    <tr>\n",
       "      <th>0</th>\n",
       "      <td>0.028765</td>\n",
       "      <td>0.082832</td>\n",
       "      <td>0.200471</td>\n",
       "    </tr>\n",
       "  </tbody>\n",
       "</table>\n",
       "</div>"
      ],
      "text/plain": [
       "      HRper     BBper      Kper\n",
       "0  0.028765  0.082832  0.200471"
      ]
     },
     "execution_count": 91,
     "metadata": {},
     "output_type": "execute_result"
    }
   ],
   "source": [
    "tto_10_19 = batting_stats(2010, 2019, ind=0)\n",
    "\n",
    "tto_10_19.rename(columns={'BB%':'BBper', 'K%':'Kper'}, inplace=True)\n",
    "\n",
    "HRper = tto_10_19.HR / tto_10_19.PA\n",
    "BBper = tto_10_19.BBper\n",
    "Kper = tto_10_19.Kper\n",
    "\n",
    "df = pd.DataFrame()\n",
    "\n",
    "df.insert(0, 'HRper', HRper)\n",
    "df.insert(1, 'BBper', BBper)\n",
    "df.insert(2, 'Kper', Kper)\n",
    "\n",
    "tto_10_19 = df\n",
    "\n",
    "tto_10_19.HRper = tto_10_19.HRper.mean()\n",
    "tto_10_19.BBper = tto_10_19.BBper.mean()\n",
    "tto_10_19.Kper = tto_10_19.Kper.mean()\n",
    "\n",
    "tto_10_19 = tto_10_19.drop(tto_10_19.index.to_list()[1:], axis = 0)\n",
    "\n",
    "tto_10_19.head()"
   ]
  },
  {
   "cell_type": "code",
   "execution_count": 94,
   "metadata": {},
   "outputs": [
    {
     "data": {
      "text/plain": [
       "pandas.core.frame.DataFrame"
      ]
     },
     "execution_count": 94,
     "metadata": {},
     "output_type": "execute_result"
    }
   ],
   "source": [
    "type(tto_70_79)\n",
    "# tto_80_89\n",
    "# tto_90_99\n",
    "# tto_00_09\n",
    "# tto_10_19"
   ]
  },
  {
   "cell_type": "code",
   "execution_count": 98,
   "metadata": {},
   "outputs": [],
   "source": [
    "tto = pd.concat([tto_70_79, tto_80_89, tto_90_99, tto_00_09, tto_10_19])"
   ]
  },
  {
   "cell_type": "code",
   "execution_count": 150,
   "metadata": {},
   "outputs": [],
   "source": [
    "tto_test = tto"
   ]
  },
  {
   "cell_type": "code",
   "execution_count": 151,
   "metadata": {},
   "outputs": [
    {
     "data": {
      "text/html": [
       "<div>\n",
       "<style scoped>\n",
       "    .dataframe tbody tr th:only-of-type {\n",
       "        vertical-align: middle;\n",
       "    }\n",
       "\n",
       "    .dataframe tbody tr th {\n",
       "        vertical-align: top;\n",
       "    }\n",
       "\n",
       "    .dataframe thead th {\n",
       "        text-align: right;\n",
       "    }\n",
       "</style>\n",
       "<table border=\"1\" class=\"dataframe\">\n",
       "  <thead>\n",
       "    <tr style=\"text-align: right;\">\n",
       "      <th></th>\n",
       "      <th>HRper</th>\n",
       "      <th>BBper</th>\n",
       "      <th>Kper</th>\n",
       "      <th>Years</th>\n",
       "    </tr>\n",
       "  </thead>\n",
       "  <tbody>\n",
       "    <tr>\n",
       "      <th>9</th>\n",
       "      <td>1.94</td>\n",
       "      <td>8.72</td>\n",
       "      <td>12.66</td>\n",
       "      <td>1970-1979</td>\n",
       "    </tr>\n",
       "    <tr>\n",
       "      <th>16</th>\n",
       "      <td>2.11</td>\n",
       "      <td>8.56</td>\n",
       "      <td>13.34</td>\n",
       "      <td>1980-1989</td>\n",
       "    </tr>\n",
       "    <tr>\n",
       "      <th>0</th>\n",
       "      <td>2.45</td>\n",
       "      <td>8.84</td>\n",
       "      <td>15.35</td>\n",
       "      <td>1990-1999</td>\n",
       "    </tr>\n",
       "    <tr>\n",
       "      <th>5</th>\n",
       "      <td>2.81</td>\n",
       "      <td>8.70</td>\n",
       "      <td>16.56</td>\n",
       "      <td>2000-2009</td>\n",
       "    </tr>\n",
       "    <tr>\n",
       "      <th>0</th>\n",
       "      <td>2.87</td>\n",
       "      <td>8.28</td>\n",
       "      <td>20.04</td>\n",
       "      <td>2010-2019</td>\n",
       "    </tr>\n",
       "  </tbody>\n",
       "</table>\n",
       "</div>"
      ],
      "text/plain": [
       "   HRper BBper   Kper       Years\n",
       "9   1.94  8.72  12.66   1970-1979\n",
       "16  2.11  8.56  13.34   1980-1989\n",
       "0   2.45  8.84  15.35   1990-1999\n",
       "5   2.81  8.70  16.56   2000-2009\n",
       "0   2.87  8.28  20.04   2010-2019"
      ]
     },
     "execution_count": 151,
     "metadata": {},
     "output_type": "execute_result"
    }
   ],
   "source": [
    "tto_test.head()"
   ]
  },
  {
   "cell_type": "code",
   "execution_count": 152,
   "metadata": {},
   "outputs": [],
   "source": [
    "#df['column name'] = df['column name'].replace(['old value'],'new value')\n",
    "\n",
    "tto_test['HRper'] = tto_test['HRper'].replace(['0.019403924125664117'], '1.94')\n",
    "tto_test['HRper'] = tto_test['HRper'].replace(['0.02112184613631582'], '2.11')\n",
    "tto_test['HRper'] = tto_test['HRper'].replace(['0.02458792784967191'], '2.45')\n",
    "tto_test['HRper'] = tto_test['HRper'].replace(['0.02811127489961448'], '2.81')\n",
    "tto_test['HRper'] = tto_test['HRper'].replace(['0.028764639946537433'], '2.87')\n",
    "\n",
    "tto_test['BBper'] = tto_test['BBper'].replace(['0.08724780701754385'], '8.72')\n",
    "tto_test['BBper'] = tto_test['BBper'].replace(['0.08566737739872067'], '8.56')\n",
    "tto_test['BBper'] = tto_test['BBper'].replace(['0.0884488188976378'], '8.84')\n",
    "tto_test['BBper'] = tto_test['BBper'].replace(['0.0870599647266314'], '8.70')\n",
    "tto_test['BBper'] = tto_test['BBper'].replace(['0.08283212996389891'], '8.28')\n",
    "\n",
    "tto_test['Kper'] = tto_test['Kper'].replace(['0.12660964912280703'], '12.66')\n",
    "tto_test['Kper'] = tto_test['Kper'].replace(['0.13344562899786783'], '13.34')\n",
    "tto_test['Kper'] = tto_test['Kper'].replace(['0.15350196850393702'], '15.35')\n",
    "tto_test['Kper'] = tto_test['Kper'].replace(['0.1656137566137566'], '16.56')\n",
    "tto_test['Kper'] = tto_test['Kper'].replace(['0.20047111913357402'], '20.04')\n"
   ]
  },
  {
   "cell_type": "code",
   "execution_count": 153,
   "metadata": {},
   "outputs": [
    {
     "data": {
      "text/html": [
       "<div>\n",
       "<style scoped>\n",
       "    .dataframe tbody tr th:only-of-type {\n",
       "        vertical-align: middle;\n",
       "    }\n",
       "\n",
       "    .dataframe tbody tr th {\n",
       "        vertical-align: top;\n",
       "    }\n",
       "\n",
       "    .dataframe thead th {\n",
       "        text-align: right;\n",
       "    }\n",
       "</style>\n",
       "<table border=\"1\" class=\"dataframe\">\n",
       "  <thead>\n",
       "    <tr style=\"text-align: right;\">\n",
       "      <th></th>\n",
       "      <th>HRper</th>\n",
       "      <th>BBper</th>\n",
       "      <th>Kper</th>\n",
       "      <th>Years</th>\n",
       "    </tr>\n",
       "  </thead>\n",
       "  <tbody>\n",
       "    <tr>\n",
       "      <th>9</th>\n",
       "      <td>1.94</td>\n",
       "      <td>8.72</td>\n",
       "      <td>12.66</td>\n",
       "      <td>1970-1979</td>\n",
       "    </tr>\n",
       "    <tr>\n",
       "      <th>16</th>\n",
       "      <td>2.11</td>\n",
       "      <td>8.56</td>\n",
       "      <td>13.34</td>\n",
       "      <td>1980-1989</td>\n",
       "    </tr>\n",
       "    <tr>\n",
       "      <th>0</th>\n",
       "      <td>2.45</td>\n",
       "      <td>8.84</td>\n",
       "      <td>15.35</td>\n",
       "      <td>1990-1999</td>\n",
       "    </tr>\n",
       "    <tr>\n",
       "      <th>5</th>\n",
       "      <td>2.81</td>\n",
       "      <td>8.70</td>\n",
       "      <td>16.56</td>\n",
       "      <td>2000-2009</td>\n",
       "    </tr>\n",
       "    <tr>\n",
       "      <th>0</th>\n",
       "      <td>2.87</td>\n",
       "      <td>8.28</td>\n",
       "      <td>20.04</td>\n",
       "      <td>2010-2019</td>\n",
       "    </tr>\n",
       "  </tbody>\n",
       "</table>\n",
       "</div>"
      ],
      "text/plain": [
       "   HRper BBper   Kper       Years\n",
       "9   1.94  8.72  12.66   1970-1979\n",
       "16  2.11  8.56  13.34   1980-1989\n",
       "0   2.45  8.84  15.35   1990-1999\n",
       "5   2.81  8.70  16.56   2000-2009\n",
       "0   2.87  8.28  20.04   2010-2019"
      ]
     },
     "execution_count": 153,
     "metadata": {},
     "output_type": "execute_result"
    }
   ],
   "source": [
    "tto_test.head()"
   ]
  },
  {
   "cell_type": "code",
   "execution_count": 148,
   "metadata": {},
   "outputs": [],
   "source": [
    "years = ['1970-1979',' 1980-1989', '1990-1999', '2000-2009', '2010-2019']"
   ]
  },
  {
   "cell_type": "code",
   "execution_count": 154,
   "metadata": {},
   "outputs": [],
   "source": [
    "tto_test = tto_test.drop(columns='Years')"
   ]
  },
  {
   "cell_type": "code",
   "execution_count": 155,
   "metadata": {},
   "outputs": [],
   "source": [
    "tto_test.insert(0, 'Years', years)"
   ]
  },
  {
   "cell_type": "code",
   "execution_count": 156,
   "metadata": {},
   "outputs": [
    {
     "data": {
      "text/html": [
       "<div>\n",
       "<style scoped>\n",
       "    .dataframe tbody tr th:only-of-type {\n",
       "        vertical-align: middle;\n",
       "    }\n",
       "\n",
       "    .dataframe tbody tr th {\n",
       "        vertical-align: top;\n",
       "    }\n",
       "\n",
       "    .dataframe thead th {\n",
       "        text-align: right;\n",
       "    }\n",
       "</style>\n",
       "<table border=\"1\" class=\"dataframe\">\n",
       "  <thead>\n",
       "    <tr style=\"text-align: right;\">\n",
       "      <th></th>\n",
       "      <th>Years</th>\n",
       "      <th>HRper</th>\n",
       "      <th>BBper</th>\n",
       "      <th>Kper</th>\n",
       "    </tr>\n",
       "  </thead>\n",
       "  <tbody>\n",
       "    <tr>\n",
       "      <th>9</th>\n",
       "      <td>1970-1979</td>\n",
       "      <td>1.94</td>\n",
       "      <td>8.72</td>\n",
       "      <td>12.66</td>\n",
       "    </tr>\n",
       "    <tr>\n",
       "      <th>16</th>\n",
       "      <td>1980-1989</td>\n",
       "      <td>2.11</td>\n",
       "      <td>8.56</td>\n",
       "      <td>13.34</td>\n",
       "    </tr>\n",
       "    <tr>\n",
       "      <th>0</th>\n",
       "      <td>1990-1999</td>\n",
       "      <td>2.45</td>\n",
       "      <td>8.84</td>\n",
       "      <td>15.35</td>\n",
       "    </tr>\n",
       "    <tr>\n",
       "      <th>5</th>\n",
       "      <td>2000-2009</td>\n",
       "      <td>2.81</td>\n",
       "      <td>8.70</td>\n",
       "      <td>16.56</td>\n",
       "    </tr>\n",
       "    <tr>\n",
       "      <th>0</th>\n",
       "      <td>2010-2019</td>\n",
       "      <td>2.87</td>\n",
       "      <td>8.28</td>\n",
       "      <td>20.04</td>\n",
       "    </tr>\n",
       "  </tbody>\n",
       "</table>\n",
       "</div>"
      ],
      "text/plain": [
       "         Years HRper BBper   Kper\n",
       "9    1970-1979  1.94  8.72  12.66\n",
       "16   1980-1989  2.11  8.56  13.34\n",
       "0    1990-1999  2.45  8.84  15.35\n",
       "5    2000-2009  2.81  8.70  16.56\n",
       "0    2010-2019  2.87  8.28  20.04"
      ]
     },
     "execution_count": 156,
     "metadata": {},
     "output_type": "execute_result"
    }
   ],
   "source": [
    "tto_test.head()"
   ]
  },
  {
   "cell_type": "code",
   "execution_count": 157,
   "metadata": {},
   "outputs": [
    {
     "data": {
      "text/html": [
       "<div>\n",
       "<style scoped>\n",
       "    .dataframe tbody tr th:only-of-type {\n",
       "        vertical-align: middle;\n",
       "    }\n",
       "\n",
       "    .dataframe tbody tr th {\n",
       "        vertical-align: top;\n",
       "    }\n",
       "\n",
       "    .dataframe thead th {\n",
       "        text-align: right;\n",
       "    }\n",
       "</style>\n",
       "<table border=\"1\" class=\"dataframe\">\n",
       "  <thead>\n",
       "    <tr style=\"text-align: right;\">\n",
       "      <th></th>\n",
       "      <th>HRper</th>\n",
       "      <th>BBper</th>\n",
       "      <th>Kper</th>\n",
       "    </tr>\n",
       "    <tr>\n",
       "      <th>Years</th>\n",
       "      <th></th>\n",
       "      <th></th>\n",
       "      <th></th>\n",
       "    </tr>\n",
       "  </thead>\n",
       "  <tbody>\n",
       "    <tr>\n",
       "      <th>1970-1979</th>\n",
       "      <td>1.94</td>\n",
       "      <td>8.72</td>\n",
       "      <td>12.66</td>\n",
       "    </tr>\n",
       "    <tr>\n",
       "      <th>1980-1989</th>\n",
       "      <td>2.11</td>\n",
       "      <td>8.56</td>\n",
       "      <td>13.34</td>\n",
       "    </tr>\n",
       "    <tr>\n",
       "      <th>1990-1999</th>\n",
       "      <td>2.45</td>\n",
       "      <td>8.84</td>\n",
       "      <td>15.35</td>\n",
       "    </tr>\n",
       "    <tr>\n",
       "      <th>2000-2009</th>\n",
       "      <td>2.81</td>\n",
       "      <td>8.70</td>\n",
       "      <td>16.56</td>\n",
       "    </tr>\n",
       "    <tr>\n",
       "      <th>2010-2019</th>\n",
       "      <td>2.87</td>\n",
       "      <td>8.28</td>\n",
       "      <td>20.04</td>\n",
       "    </tr>\n",
       "  </tbody>\n",
       "</table>\n",
       "</div>"
      ],
      "text/plain": [
       "           HRper BBper   Kper\n",
       "Years                        \n",
       "1970-1979   1.94  8.72  12.66\n",
       " 1980-1989  2.11  8.56  13.34\n",
       "1990-1999   2.45  8.84  15.35\n",
       "2000-2009   2.81  8.70  16.56\n",
       "2010-2019   2.87  8.28  20.04"
      ]
     },
     "execution_count": 157,
     "metadata": {},
     "output_type": "execute_result"
    }
   ],
   "source": [
    "tto_test.set_index('Years')"
   ]
  },
  {
   "cell_type": "code",
   "execution_count": 158,
   "metadata": {},
   "outputs": [
    {
     "data": {
      "text/html": [
       "<div>\n",
       "<style scoped>\n",
       "    .dataframe tbody tr th:only-of-type {\n",
       "        vertical-align: middle;\n",
       "    }\n",
       "\n",
       "    .dataframe tbody tr th {\n",
       "        vertical-align: top;\n",
       "    }\n",
       "\n",
       "    .dataframe thead th {\n",
       "        text-align: right;\n",
       "    }\n",
       "</style>\n",
       "<table border=\"1\" class=\"dataframe\">\n",
       "  <thead>\n",
       "    <tr style=\"text-align: right;\">\n",
       "      <th></th>\n",
       "      <th>Years</th>\n",
       "      <th>HRper</th>\n",
       "      <th>BBper</th>\n",
       "      <th>Kper</th>\n",
       "    </tr>\n",
       "  </thead>\n",
       "  <tbody>\n",
       "    <tr>\n",
       "      <th>9</th>\n",
       "      <td>1970-1979</td>\n",
       "      <td>1.94</td>\n",
       "      <td>8.72</td>\n",
       "      <td>12.66</td>\n",
       "    </tr>\n",
       "    <tr>\n",
       "      <th>16</th>\n",
       "      <td>1980-1989</td>\n",
       "      <td>2.11</td>\n",
       "      <td>8.56</td>\n",
       "      <td>13.34</td>\n",
       "    </tr>\n",
       "    <tr>\n",
       "      <th>0</th>\n",
       "      <td>1990-1999</td>\n",
       "      <td>2.45</td>\n",
       "      <td>8.84</td>\n",
       "      <td>15.35</td>\n",
       "    </tr>\n",
       "    <tr>\n",
       "      <th>5</th>\n",
       "      <td>2000-2009</td>\n",
       "      <td>2.81</td>\n",
       "      <td>8.70</td>\n",
       "      <td>16.56</td>\n",
       "    </tr>\n",
       "    <tr>\n",
       "      <th>0</th>\n",
       "      <td>2010-2019</td>\n",
       "      <td>2.87</td>\n",
       "      <td>8.28</td>\n",
       "      <td>20.04</td>\n",
       "    </tr>\n",
       "  </tbody>\n",
       "</table>\n",
       "</div>"
      ],
      "text/plain": [
       "         Years HRper BBper   Kper\n",
       "9    1970-1979  1.94  8.72  12.66\n",
       "16   1980-1989  2.11  8.56  13.34\n",
       "0    1990-1999  2.45  8.84  15.35\n",
       "5    2000-2009  2.81  8.70  16.56\n",
       "0    2010-2019  2.87  8.28  20.04"
      ]
     },
     "execution_count": 158,
     "metadata": {},
     "output_type": "execute_result"
    }
   ],
   "source": [
    "tto_test.head()"
   ]
  },
  {
   "cell_type": "code",
   "execution_count": 160,
   "metadata": {},
   "outputs": [],
   "source": [
    "tto_test.to_csv('tto_data.csv')"
   ]
  },
  {
   "cell_type": "code",
   "execution_count": 161,
   "metadata": {},
   "outputs": [],
   "source": [
    "tto_test = tto_test.reset_index(drop=True)"
   ]
  },
  {
   "cell_type": "code",
   "execution_count": 162,
   "metadata": {},
   "outputs": [
    {
     "data": {
      "text/html": [
       "<div>\n",
       "<style scoped>\n",
       "    .dataframe tbody tr th:only-of-type {\n",
       "        vertical-align: middle;\n",
       "    }\n",
       "\n",
       "    .dataframe tbody tr th {\n",
       "        vertical-align: top;\n",
       "    }\n",
       "\n",
       "    .dataframe thead th {\n",
       "        text-align: right;\n",
       "    }\n",
       "</style>\n",
       "<table border=\"1\" class=\"dataframe\">\n",
       "  <thead>\n",
       "    <tr style=\"text-align: right;\">\n",
       "      <th></th>\n",
       "      <th>Years</th>\n",
       "      <th>HRper</th>\n",
       "      <th>BBper</th>\n",
       "      <th>Kper</th>\n",
       "    </tr>\n",
       "  </thead>\n",
       "  <tbody>\n",
       "    <tr>\n",
       "      <th>0</th>\n",
       "      <td>1970-1979</td>\n",
       "      <td>1.94</td>\n",
       "      <td>8.72</td>\n",
       "      <td>12.66</td>\n",
       "    </tr>\n",
       "    <tr>\n",
       "      <th>1</th>\n",
       "      <td>1980-1989</td>\n",
       "      <td>2.11</td>\n",
       "      <td>8.56</td>\n",
       "      <td>13.34</td>\n",
       "    </tr>\n",
       "    <tr>\n",
       "      <th>2</th>\n",
       "      <td>1990-1999</td>\n",
       "      <td>2.45</td>\n",
       "      <td>8.84</td>\n",
       "      <td>15.35</td>\n",
       "    </tr>\n",
       "    <tr>\n",
       "      <th>3</th>\n",
       "      <td>2000-2009</td>\n",
       "      <td>2.81</td>\n",
       "      <td>8.70</td>\n",
       "      <td>16.56</td>\n",
       "    </tr>\n",
       "    <tr>\n",
       "      <th>4</th>\n",
       "      <td>2010-2019</td>\n",
       "      <td>2.87</td>\n",
       "      <td>8.28</td>\n",
       "      <td>20.04</td>\n",
       "    </tr>\n",
       "  </tbody>\n",
       "</table>\n",
       "</div>"
      ],
      "text/plain": [
       "        Years HRper BBper   Kper\n",
       "0   1970-1979  1.94  8.72  12.66\n",
       "1   1980-1989  2.11  8.56  13.34\n",
       "2   1990-1999  2.45  8.84  15.35\n",
       "3   2000-2009  2.81  8.70  16.56\n",
       "4   2010-2019  2.87  8.28  20.04"
      ]
     },
     "execution_count": 162,
     "metadata": {},
     "output_type": "execute_result"
    }
   ],
   "source": [
    "tto_test.head()"
   ]
  },
  {
   "cell_type": "code",
   "execution_count": 164,
   "metadata": {},
   "outputs": [],
   "source": [
    "tto_test.set_index('Years', inplace=True)"
   ]
  },
  {
   "cell_type": "code",
   "execution_count": 165,
   "metadata": {},
   "outputs": [
    {
     "data": {
      "text/html": [
       "<div>\n",
       "<style scoped>\n",
       "    .dataframe tbody tr th:only-of-type {\n",
       "        vertical-align: middle;\n",
       "    }\n",
       "\n",
       "    .dataframe tbody tr th {\n",
       "        vertical-align: top;\n",
       "    }\n",
       "\n",
       "    .dataframe thead th {\n",
       "        text-align: right;\n",
       "    }\n",
       "</style>\n",
       "<table border=\"1\" class=\"dataframe\">\n",
       "  <thead>\n",
       "    <tr style=\"text-align: right;\">\n",
       "      <th></th>\n",
       "      <th>HRper</th>\n",
       "      <th>BBper</th>\n",
       "      <th>Kper</th>\n",
       "    </tr>\n",
       "    <tr>\n",
       "      <th>Years</th>\n",
       "      <th></th>\n",
       "      <th></th>\n",
       "      <th></th>\n",
       "    </tr>\n",
       "  </thead>\n",
       "  <tbody>\n",
       "    <tr>\n",
       "      <th>1970-1979</th>\n",
       "      <td>1.94</td>\n",
       "      <td>8.72</td>\n",
       "      <td>12.66</td>\n",
       "    </tr>\n",
       "    <tr>\n",
       "      <th>1980-1989</th>\n",
       "      <td>2.11</td>\n",
       "      <td>8.56</td>\n",
       "      <td>13.34</td>\n",
       "    </tr>\n",
       "    <tr>\n",
       "      <th>1990-1999</th>\n",
       "      <td>2.45</td>\n",
       "      <td>8.84</td>\n",
       "      <td>15.35</td>\n",
       "    </tr>\n",
       "    <tr>\n",
       "      <th>2000-2009</th>\n",
       "      <td>2.81</td>\n",
       "      <td>8.70</td>\n",
       "      <td>16.56</td>\n",
       "    </tr>\n",
       "    <tr>\n",
       "      <th>2010-2019</th>\n",
       "      <td>2.87</td>\n",
       "      <td>8.28</td>\n",
       "      <td>20.04</td>\n",
       "    </tr>\n",
       "  </tbody>\n",
       "</table>\n",
       "</div>"
      ],
      "text/plain": [
       "           HRper BBper   Kper\n",
       "Years                        \n",
       "1970-1979   1.94  8.72  12.66\n",
       " 1980-1989  2.11  8.56  13.34\n",
       "1990-1999   2.45  8.84  15.35\n",
       "2000-2009   2.81  8.70  16.56\n",
       "2010-2019   2.87  8.28  20.04"
      ]
     },
     "execution_count": 165,
     "metadata": {},
     "output_type": "execute_result"
    }
   ],
   "source": [
    "tto_test.head()"
   ]
  },
  {
   "cell_type": "code",
   "execution_count": 166,
   "metadata": {},
   "outputs": [],
   "source": [
    "tto = tto_test"
   ]
  },
  {
   "cell_type": "code",
   "execution_count": 167,
   "metadata": {},
   "outputs": [],
   "source": [
    "tto.to_csv('tto_data.csv')"
   ]
  },
  {
   "cell_type": "code",
   "execution_count": null,
   "metadata": {},
   "outputs": [],
   "source": []
  }
 ],
 "metadata": {
  "interpreter": {
   "hash": "b0fa6594d8f4cbf19f97940f81e996739fb7646882a419484c72d19e05852a7e"
  },
  "kernelspec": {
   "display_name": "Python 3.9.12 64-bit",
   "language": "python",
   "name": "python3"
  },
  "language_info": {
   "codemirror_mode": {
    "name": "ipython",
    "version": 3
   },
   "file_extension": ".py",
   "mimetype": "text/x-python",
   "name": "python",
   "nbconvert_exporter": "python",
   "pygments_lexer": "ipython3",
   "version": "3.9.12"
  },
  "orig_nbformat": 4
 },
 "nbformat": 4,
 "nbformat_minor": 2
}
