{
 "cells": [
  {
   "cell_type": "code",
   "execution_count": 27,
   "metadata": {},
   "outputs": [],
   "source": [
    "import pandas as pd\n",
    "pd.set_option('display.max_columns', None)"
   ]
  },
  {
   "cell_type": "code",
   "execution_count": 28,
   "metadata": {},
   "outputs": [],
   "source": [
    "from pybaseball import batting_stats"
   ]
  },
  {
   "cell_type": "code",
   "execution_count": 29,
   "metadata": {},
   "outputs": [
    {
     "data": {
      "text/html": [
       "<div>\n",
       "<style scoped>\n",
       "    .dataframe tbody tr th:only-of-type {\n",
       "        vertical-align: middle;\n",
       "    }\n",
       "\n",
       "    .dataframe tbody tr th {\n",
       "        vertical-align: top;\n",
       "    }\n",
       "\n",
       "    .dataframe thead th {\n",
       "        text-align: right;\n",
       "    }\n",
       "</style>\n",
       "<table border=\"1\" class=\"dataframe\">\n",
       "  <thead>\n",
       "    <tr style=\"text-align: right;\">\n",
       "      <th></th>\n",
       "      <th>HRper</th>\n",
       "      <th>BBper</th>\n",
       "      <th>Kper</th>\n",
       "    </tr>\n",
       "  </thead>\n",
       "  <tbody>\n",
       "    <tr>\n",
       "      <th>6</th>\n",
       "      <td>0.023604</td>\n",
       "      <td>0.093088</td>\n",
       "      <td>0.120905</td>\n",
       "    </tr>\n",
       "  </tbody>\n",
       "</table>\n",
       "</div>"
      ],
      "text/plain": [
       "      HRper     BBper      Kper\n",
       "6  0.023604  0.093088  0.120905"
      ]
     },
     "execution_count": 29,
     "metadata": {},
     "output_type": "execute_result"
    }
   ],
   "source": [
    "tto_70_75 = batting_stats(1970, 1975, ind=1)\n",
    "\n",
    "tto_70_75.rename(columns={'BB%':'BBper', 'K%':'Kper'}, inplace=True)\n",
    "\n",
    "HRper = tto_70_75.HR / tto_70_75.PA\n",
    "BBper = tto_70_75.BBper\n",
    "Kper = tto_70_75.Kper\n",
    "\n",
    "df = pd.DataFrame()\n",
    "\n",
    "df.insert(0, 'HRper', HRper)\n",
    "df.insert(1, 'BBper', BBper)\n",
    "df.insert(2, 'Kper', Kper)\n",
    "\n",
    "tto_70_75 = df\n",
    "\n",
    "tto_70_75.HRper = tto_70_75.HRper.mean()\n",
    "tto_70_75.BBper = tto_70_75.BBper.mean()\n",
    "tto_70_75.Kper = tto_70_75.Kper.mean()\n",
    "\n",
    "tto_70_75 = tto_70_75.drop(tto_70_75.index.to_list()[1:], axis = 0)\n",
    "\n",
    "tto_70_75.head()"
   ]
  },
  {
   "cell_type": "code",
   "execution_count": 30,
   "metadata": {},
   "outputs": [
    {
     "data": {
      "text/html": [
       "<div>\n",
       "<style scoped>\n",
       "    .dataframe tbody tr th:only-of-type {\n",
       "        vertical-align: middle;\n",
       "    }\n",
       "\n",
       "    .dataframe tbody tr th {\n",
       "        vertical-align: top;\n",
       "    }\n",
       "\n",
       "    .dataframe thead th {\n",
       "        text-align: right;\n",
       "    }\n",
       "</style>\n",
       "<table border=\"1\" class=\"dataframe\">\n",
       "  <thead>\n",
       "    <tr style=\"text-align: right;\">\n",
       "      <th></th>\n",
       "      <th>HRper</th>\n",
       "      <th>BBper</th>\n",
       "      <th>Kper</th>\n",
       "    </tr>\n",
       "  </thead>\n",
       "  <tbody>\n",
       "    <tr>\n",
       "      <th>2</th>\n",
       "      <td>0.023189</td>\n",
       "      <td>0.088794</td>\n",
       "      <td>0.117529</td>\n",
       "    </tr>\n",
       "  </tbody>\n",
       "</table>\n",
       "</div>"
      ],
      "text/plain": [
       "      HRper     BBper      Kper\n",
       "2  0.023189  0.088794  0.117529"
      ]
     },
     "execution_count": 30,
     "metadata": {},
     "output_type": "execute_result"
    }
   ],
   "source": [
    "tto_76_80 = batting_stats(1976, 1980, ind=1)\n",
    "\n",
    "tto_76_80.rename(columns={'BB%':'BBper', 'K%':'Kper'}, inplace=True)\n",
    "\n",
    "HRper = tto_76_80.HR / tto_76_80.PA\n",
    "BBper = tto_76_80.BBper\n",
    "Kper = tto_76_80.Kper\n",
    "\n",
    "df = pd.DataFrame()\n",
    "\n",
    "df.insert(0, 'HRper', HRper)\n",
    "df.insert(1, 'BBper', BBper)\n",
    "df.insert(2, 'Kper', Kper)\n",
    "\n",
    "tto_76_80 = df\n",
    "\n",
    "tto_76_80.HRper = tto_76_80.HRper.mean()\n",
    "tto_76_80.BBper = tto_76_80.BBper.mean()\n",
    "tto_76_80.Kper = tto_76_80.Kper.mean()\n",
    "\n",
    "tto_76_80 = tto_76_80.drop(tto_76_80.index.to_list()[1:], axis = 0)\n",
    "\n",
    "tto_76_80.head()"
   ]
  },
  {
   "cell_type": "code",
   "execution_count": 31,
   "metadata": {},
   "outputs": [
    {
     "data": {
      "text/html": [
       "<div>\n",
       "<style scoped>\n",
       "    .dataframe tbody tr th:only-of-type {\n",
       "        vertical-align: middle;\n",
       "    }\n",
       "\n",
       "    .dataframe tbody tr th {\n",
       "        vertical-align: top;\n",
       "    }\n",
       "\n",
       "    .dataframe thead th {\n",
       "        text-align: right;\n",
       "    }\n",
       "</style>\n",
       "<table border=\"1\" class=\"dataframe\">\n",
       "  <thead>\n",
       "    <tr style=\"text-align: right;\">\n",
       "      <th></th>\n",
       "      <th>HRper</th>\n",
       "      <th>BBper</th>\n",
       "      <th>Kper</th>\n",
       "    </tr>\n",
       "  </thead>\n",
       "  <tbody>\n",
       "    <tr>\n",
       "      <th>6</th>\n",
       "      <td>0.023561</td>\n",
       "      <td>0.087754</td>\n",
       "      <td>0.12313</td>\n",
       "    </tr>\n",
       "  </tbody>\n",
       "</table>\n",
       "</div>"
      ],
      "text/plain": [
       "      HRper     BBper     Kper\n",
       "6  0.023561  0.087754  0.12313"
      ]
     },
     "execution_count": 31,
     "metadata": {},
     "output_type": "execute_result"
    }
   ],
   "source": [
    "tto_81_85 = batting_stats(1981, 1985, ind=1)\n",
    "\n",
    "tto_81_85.rename(columns={'BB%':'BBper', 'K%':'Kper'}, inplace=True)\n",
    "\n",
    "HRper = tto_81_85.HR / tto_81_85.PA\n",
    "BBper = tto_81_85.BBper\n",
    "Kper = tto_81_85.Kper\n",
    "\n",
    "df = pd.DataFrame()\n",
    "\n",
    "df.insert(0, 'HRper', HRper)\n",
    "df.insert(1, 'BBper', BBper)\n",
    "df.insert(2, 'Kper', Kper)\n",
    "\n",
    "tto_81_85 = df\n",
    "\n",
    "tto_81_85.HRper = tto_81_85.HRper.mean()\n",
    "tto_81_85.BBper = tto_81_85.BBper.mean()\n",
    "tto_81_85.Kper = tto_81_85.Kper.mean()\n",
    "\n",
    "tto_81_85 = tto_81_85.drop(tto_81_85.index.to_list()[1:], axis = 0)\n",
    "\n",
    "tto_81_85.head()"
   ]
  },
  {
   "cell_type": "code",
   "execution_count": 32,
   "metadata": {},
   "outputs": [
    {
     "data": {
      "text/html": [
       "<div>\n",
       "<style scoped>\n",
       "    .dataframe tbody tr th:only-of-type {\n",
       "        vertical-align: middle;\n",
       "    }\n",
       "\n",
       "    .dataframe tbody tr th {\n",
       "        vertical-align: top;\n",
       "    }\n",
       "\n",
       "    .dataframe thead th {\n",
       "        text-align: right;\n",
       "    }\n",
       "</style>\n",
       "<table border=\"1\" class=\"dataframe\">\n",
       "  <thead>\n",
       "    <tr style=\"text-align: right;\">\n",
       "      <th></th>\n",
       "      <th>HRper</th>\n",
       "      <th>BBper</th>\n",
       "      <th>Kper</th>\n",
       "    </tr>\n",
       "  </thead>\n",
       "  <tbody>\n",
       "    <tr>\n",
       "      <th>0</th>\n",
       "      <td>0.026128</td>\n",
       "      <td>0.091505</td>\n",
       "      <td>0.137122</td>\n",
       "    </tr>\n",
       "  </tbody>\n",
       "</table>\n",
       "</div>"
      ],
      "text/plain": [
       "      HRper     BBper      Kper\n",
       "0  0.026128  0.091505  0.137122"
      ]
     },
     "execution_count": 32,
     "metadata": {},
     "output_type": "execute_result"
    }
   ],
   "source": [
    "tto_86_90 = batting_stats(1986, 1990, ind=1)\n",
    "\n",
    "tto_86_90.rename(columns={'BB%':'BBper', 'K%':'Kper'}, inplace=True)\n",
    "\n",
    "HRper = tto_86_90.HR / tto_86_90.PA\n",
    "BBper = tto_86_90.BBper\n",
    "Kper = tto_86_90.Kper\n",
    "\n",
    "df = pd.DataFrame()\n",
    "\n",
    "df.insert(0, 'HRper', HRper)\n",
    "df.insert(1, 'BBper', BBper)\n",
    "df.insert(2, 'Kper', Kper)\n",
    "\n",
    "tto_86_90 = df\n",
    "\n",
    "tto_86_90.HRper = tto_86_90.HRper.mean()\n",
    "tto_86_90.BBper = tto_86_90.BBper.mean()\n",
    "tto_86_90.Kper = tto_86_90.Kper.mean()\n",
    "\n",
    "tto_86_90 = tto_86_90.drop(tto_86_90.index.to_list()[1:], axis = 0)\n",
    "\n",
    "tto_86_90.head()"
   ]
  },
  {
   "cell_type": "code",
   "execution_count": 33,
   "metadata": {},
   "outputs": [
    {
     "data": {
      "text/html": [
       "<div>\n",
       "<style scoped>\n",
       "    .dataframe tbody tr th:only-of-type {\n",
       "        vertical-align: middle;\n",
       "    }\n",
       "\n",
       "    .dataframe tbody tr th {\n",
       "        vertical-align: top;\n",
       "    }\n",
       "\n",
       "    .dataframe thead th {\n",
       "        text-align: right;\n",
       "    }\n",
       "</style>\n",
       "<table border=\"1\" class=\"dataframe\">\n",
       "  <thead>\n",
       "    <tr style=\"text-align: right;\">\n",
       "      <th></th>\n",
       "      <th>HRper</th>\n",
       "      <th>BBper</th>\n",
       "      <th>Kper</th>\n",
       "    </tr>\n",
       "  </thead>\n",
       "  <tbody>\n",
       "    <tr>\n",
       "      <th>47</th>\n",
       "      <td>0.027709</td>\n",
       "      <td>0.09572</td>\n",
       "      <td>0.14001</td>\n",
       "    </tr>\n",
       "  </tbody>\n",
       "</table>\n",
       "</div>"
      ],
      "text/plain": [
       "       HRper    BBper     Kper\n",
       "47  0.027709  0.09572  0.14001"
      ]
     },
     "execution_count": 33,
     "metadata": {},
     "output_type": "execute_result"
    }
   ],
   "source": [
    "tto_91_95 = batting_stats(1991, 1995, ind=1)\n",
    "\n",
    "tto_91_95.rename(columns={'BB%':'BBper', 'K%':'Kper'}, inplace=True)\n",
    "\n",
    "HRper = tto_91_95.HR / tto_91_95.PA\n",
    "BBper = tto_91_95.BBper\n",
    "Kper = tto_91_95.Kper\n",
    "\n",
    "df = pd.DataFrame()\n",
    "\n",
    "df.insert(0, 'HRper', HRper)\n",
    "df.insert(1, 'BBper', BBper)\n",
    "df.insert(2, 'Kper', Kper)\n",
    "\n",
    "tto_91_95 = df\n",
    "\n",
    "tto_91_95.HRper = tto_91_95.HRper.mean()\n",
    "tto_91_95.BBper = tto_91_95.BBper.mean()\n",
    "tto_91_95.Kper = tto_91_95.Kper.mean()\n",
    "\n",
    "tto_91_95 = tto_91_95.drop(tto_91_95.index.to_list()[1:], axis = 0)\n",
    "\n",
    "tto_91_95.head()"
   ]
  },
  {
   "cell_type": "code",
   "execution_count": 34,
   "metadata": {},
   "outputs": [
    {
     "data": {
      "text/html": [
       "<div>\n",
       "<style scoped>\n",
       "    .dataframe tbody tr th:only-of-type {\n",
       "        vertical-align: middle;\n",
       "    }\n",
       "\n",
       "    .dataframe tbody tr th {\n",
       "        vertical-align: top;\n",
       "    }\n",
       "\n",
       "    .dataframe thead th {\n",
       "        text-align: right;\n",
       "    }\n",
       "</style>\n",
       "<table border=\"1\" class=\"dataframe\">\n",
       "  <thead>\n",
       "    <tr style=\"text-align: right;\">\n",
       "      <th></th>\n",
       "      <th>HRper</th>\n",
       "      <th>BBper</th>\n",
       "      <th>Kper</th>\n",
       "    </tr>\n",
       "  </thead>\n",
       "  <tbody>\n",
       "    <tr>\n",
       "      <th>58</th>\n",
       "      <td>0.033586</td>\n",
       "      <td>0.098058</td>\n",
       "      <td>0.150726</td>\n",
       "    </tr>\n",
       "  </tbody>\n",
       "</table>\n",
       "</div>"
      ],
      "text/plain": [
       "       HRper     BBper      Kper\n",
       "58  0.033586  0.098058  0.150726"
      ]
     },
     "execution_count": 34,
     "metadata": {},
     "output_type": "execute_result"
    }
   ],
   "source": [
    "tto_96_00 = batting_stats(1996, 2000, ind=1)\n",
    "\n",
    "tto_96_00.rename(columns={'BB%':'BBper', 'K%':'Kper'}, inplace=True)\n",
    "\n",
    "HRper = tto_96_00.HR / tto_96_00.PA\n",
    "BBper = tto_96_00.BBper\n",
    "Kper = tto_96_00.Kper\n",
    "\n",
    "df = pd.DataFrame()\n",
    "\n",
    "df.insert(0, 'HRper', HRper)\n",
    "df.insert(1, 'BBper', BBper)\n",
    "df.insert(2, 'Kper', Kper)\n",
    "\n",
    "tto_96_00 = df\n",
    "\n",
    "tto_96_00.HRper = tto_96_00.HRper.mean()\n",
    "tto_96_00.BBper = tto_96_00.BBper.mean()\n",
    "tto_96_00.Kper = tto_96_00.Kper.mean()\n",
    "\n",
    "tto_96_00 = tto_96_00.drop(tto_96_00.index.to_list()[1:], axis = 0)\n",
    "\n",
    "tto_96_00.head()"
   ]
  },
  {
   "cell_type": "code",
   "execution_count": 35,
   "metadata": {},
   "outputs": [
    {
     "data": {
      "text/html": [
       "<div>\n",
       "<style scoped>\n",
       "    .dataframe tbody tr th:only-of-type {\n",
       "        vertical-align: middle;\n",
       "    }\n",
       "\n",
       "    .dataframe tbody tr th {\n",
       "        vertical-align: top;\n",
       "    }\n",
       "\n",
       "    .dataframe thead th {\n",
       "        text-align: right;\n",
       "    }\n",
       "</style>\n",
       "<table border=\"1\" class=\"dataframe\">\n",
       "  <thead>\n",
       "    <tr style=\"text-align: right;\">\n",
       "      <th></th>\n",
       "      <th>HRper</th>\n",
       "      <th>BBper</th>\n",
       "      <th>Kper</th>\n",
       "    </tr>\n",
       "  </thead>\n",
       "  <tbody>\n",
       "    <tr>\n",
       "      <th>0</th>\n",
       "      <td>0.033001</td>\n",
       "      <td>0.092534</td>\n",
       "      <td>0.150894</td>\n",
       "    </tr>\n",
       "  </tbody>\n",
       "</table>\n",
       "</div>"
      ],
      "text/plain": [
       "      HRper     BBper      Kper\n",
       "0  0.033001  0.092534  0.150894"
      ]
     },
     "execution_count": 35,
     "metadata": {},
     "output_type": "execute_result"
    }
   ],
   "source": [
    "tto_01_05 = batting_stats(2001, 2005, ind=1)\n",
    "\n",
    "tto_01_05.rename(columns={'BB%':'BBper', 'K%':'Kper'}, inplace=True)\n",
    "\n",
    "HRper = tto_01_05.HR / tto_01_05.PA\n",
    "BBper = tto_01_05.BBper\n",
    "Kper = tto_01_05.Kper\n",
    "\n",
    "df = pd.DataFrame()\n",
    "\n",
    "df.insert(0, 'HRper', HRper)\n",
    "df.insert(1, 'BBper', BBper)\n",
    "df.insert(2, 'Kper', Kper)\n",
    "\n",
    "tto_01_05 = df\n",
    "\n",
    "tto_01_05.HRper = tto_01_05.HRper.mean()\n",
    "tto_01_05.BBper = tto_01_05.BBper.mean()\n",
    "tto_01_05.Kper = tto_01_05.Kper.mean()\n",
    "\n",
    "tto_01_05 = tto_01_05.drop(tto_01_05.index.to_list()[1:], axis = 0)\n",
    "\n",
    "tto_01_05.head()"
   ]
  },
  {
   "cell_type": "code",
   "execution_count": 37,
   "metadata": {},
   "outputs": [
    {
     "data": {
      "text/html": [
       "<div>\n",
       "<style scoped>\n",
       "    .dataframe tbody tr th:only-of-type {\n",
       "        vertical-align: middle;\n",
       "    }\n",
       "\n",
       "    .dataframe tbody tr th {\n",
       "        vertical-align: top;\n",
       "    }\n",
       "\n",
       "    .dataframe thead th {\n",
       "        text-align: right;\n",
       "    }\n",
       "</style>\n",
       "<table border=\"1\" class=\"dataframe\">\n",
       "  <thead>\n",
       "    <tr style=\"text-align: right;\">\n",
       "      <th></th>\n",
       "      <th>HRper</th>\n",
       "      <th>BBper</th>\n",
       "      <th>Kper</th>\n",
       "    </tr>\n",
       "  </thead>\n",
       "  <tbody>\n",
       "    <tr>\n",
       "      <th>7</th>\n",
       "      <td>0.031162</td>\n",
       "      <td>0.092262</td>\n",
       "      <td>0.160377</td>\n",
       "    </tr>\n",
       "  </tbody>\n",
       "</table>\n",
       "</div>"
      ],
      "text/plain": [
       "      HRper     BBper      Kper\n",
       "7  0.031162  0.092262  0.160377"
      ]
     },
     "execution_count": 37,
     "metadata": {},
     "output_type": "execute_result"
    }
   ],
   "source": [
    "tto_06_10 = batting_stats(2006, 2010, ind=1)\n",
    "\n",
    "tto_06_10.rename(columns={'BB%':'BBper', 'K%':'Kper'}, inplace=True)\n",
    "\n",
    "HRper = tto_06_10.HR / tto_06_10.PA\n",
    "BBper = tto_06_10.BBper\n",
    "Kper = tto_06_10.Kper\n",
    "\n",
    "df = pd.DataFrame()\n",
    "\n",
    "df.insert(0, 'HRper', HRper)\n",
    "df.insert(1, 'BBper', BBper)\n",
    "df.insert(2, 'Kper', Kper)\n",
    "\n",
    "tto_06_10 = df\n",
    "\n",
    "tto_06_10.HRper = tto_06_10.HRper.mean()\n",
    "tto_06_10.BBper = tto_06_10.BBper.mean()\n",
    "tto_06_10.Kper = tto_06_10.Kper.mean()\n",
    "\n",
    "tto_06_10 = tto_06_10.drop(tto_06_10.index.to_list()[1:], axis = 0)\n",
    "\n",
    "tto_06_10.head()"
   ]
  },
  {
   "cell_type": "code",
   "execution_count": 38,
   "metadata": {},
   "outputs": [
    {
     "data": {
      "text/html": [
       "<div>\n",
       "<style scoped>\n",
       "    .dataframe tbody tr th:only-of-type {\n",
       "        vertical-align: middle;\n",
       "    }\n",
       "\n",
       "    .dataframe tbody tr th {\n",
       "        vertical-align: top;\n",
       "    }\n",
       "\n",
       "    .dataframe thead th {\n",
       "        text-align: right;\n",
       "    }\n",
       "</style>\n",
       "<table border=\"1\" class=\"dataframe\">\n",
       "  <thead>\n",
       "    <tr style=\"text-align: right;\">\n",
       "      <th></th>\n",
       "      <th>HRper</th>\n",
       "      <th>BBper</th>\n",
       "      <th>Kper</th>\n",
       "    </tr>\n",
       "  </thead>\n",
       "  <tbody>\n",
       "    <tr>\n",
       "      <th>6</th>\n",
       "      <td>0.029528</td>\n",
       "      <td>0.083622</td>\n",
       "      <td>0.177324</td>\n",
       "    </tr>\n",
       "  </tbody>\n",
       "</table>\n",
       "</div>"
      ],
      "text/plain": [
       "      HRper     BBper      Kper\n",
       "6  0.029528  0.083622  0.177324"
      ]
     },
     "execution_count": 38,
     "metadata": {},
     "output_type": "execute_result"
    }
   ],
   "source": [
    "tto_11_15 = batting_stats(2011, 2015, ind=1)\n",
    "\n",
    "tto_11_15.rename(columns={'BB%':'BBper', 'K%':'Kper'}, inplace=True)\n",
    "\n",
    "HRper = tto_11_15.HR / tto_11_15.PA\n",
    "BBper = tto_11_15.BBper\n",
    "Kper = tto_11_15.Kper\n",
    "\n",
    "df = pd.DataFrame()\n",
    "\n",
    "df.insert(0, 'HRper', HRper)\n",
    "df.insert(1, 'BBper', BBper)\n",
    "df.insert(2, 'Kper', Kper)\n",
    "\n",
    "tto_11_15 = df\n",
    "\n",
    "tto_11_15.HRper = tto_11_15.HRper.mean()\n",
    "tto_11_15.BBper = tto_11_15.BBper.mean()\n",
    "tto_11_15.Kper = tto_11_15.Kper.mean()\n",
    "\n",
    "tto_11_15 = tto_11_15.drop(tto_11_15.index.to_list()[1:], axis = 0)\n",
    "\n",
    "tto_11_15.head()"
   ]
  },
  {
   "cell_type": "code",
   "execution_count": 39,
   "metadata": {},
   "outputs": [
    {
     "data": {
      "text/html": [
       "<div>\n",
       "<style scoped>\n",
       "    .dataframe tbody tr th:only-of-type {\n",
       "        vertical-align: middle;\n",
       "    }\n",
       "\n",
       "    .dataframe tbody tr th {\n",
       "        vertical-align: top;\n",
       "    }\n",
       "\n",
       "    .dataframe thead th {\n",
       "        text-align: right;\n",
       "    }\n",
       "</style>\n",
       "<table border=\"1\" class=\"dataframe\">\n",
       "  <thead>\n",
       "    <tr style=\"text-align: right;\">\n",
       "      <th></th>\n",
       "      <th>HRper</th>\n",
       "      <th>BBper</th>\n",
       "      <th>Kper</th>\n",
       "    </tr>\n",
       "  </thead>\n",
       "  <tbody>\n",
       "    <tr>\n",
       "      <th>2</th>\n",
       "      <td>0.037945</td>\n",
       "      <td>0.091336</td>\n",
       "      <td>0.200861</td>\n",
       "    </tr>\n",
       "  </tbody>\n",
       "</table>\n",
       "</div>"
      ],
      "text/plain": [
       "      HRper     BBper      Kper\n",
       "2  0.037945  0.091336  0.200861"
      ]
     },
     "execution_count": 39,
     "metadata": {},
     "output_type": "execute_result"
    }
   ],
   "source": [
    "tto_16_21 = batting_stats(2016, 2021, ind=1)\n",
    "\n",
    "tto_16_21.rename(columns={'BB%':'BBper', 'K%':'Kper'}, inplace=True)\n",
    "\n",
    "HRper = tto_16_21.HR / tto_16_21.PA\n",
    "BBper = tto_16_21.BBper\n",
    "Kper = tto_16_21.Kper\n",
    "\n",
    "df = pd.DataFrame()\n",
    "\n",
    "df.insert(0, 'HRper', HRper)\n",
    "df.insert(1, 'BBper', BBper)\n",
    "df.insert(2, 'Kper', Kper)\n",
    "\n",
    "tto_16_21 = df\n",
    "\n",
    "tto_16_21.HRper = tto_16_21.HRper.mean()\n",
    "tto_16_21.BBper = tto_16_21.BBper.mean()\n",
    "tto_16_21.Kper = tto_16_21.Kper.mean()\n",
    "\n",
    "tto_16_21 = tto_16_21.drop(tto_16_21.index.to_list()[1:], axis = 0)\n",
    "\n",
    "tto_16_21.head()"
   ]
  },
  {
   "cell_type": "code",
   "execution_count": 41,
   "metadata": {},
   "outputs": [],
   "source": [
    "tto = pd.concat([tto_70_75, tto_76_80, tto_81_85, tto_86_90, tto_91_95, tto_96_00, tto_01_05, tto_06_10, tto_11_15, tto_16_21])"
   ]
  },
  {
   "cell_type": "code",
   "execution_count": 42,
   "metadata": {},
   "outputs": [],
   "source": [
    "tto_test = tto"
   ]
  },
  {
   "cell_type": "code",
   "execution_count": 46,
   "metadata": {},
   "outputs": [
    {
     "data": {
      "text/plain": [
       "6     0.023604\n",
       "2     0.023189\n",
       "6     0.023561\n",
       "0     0.026128\n",
       "47    0.027709\n",
       "58    0.033586\n",
       "0     0.033001\n",
       "7     0.031162\n",
       "6     0.029528\n",
       "2     0.037945\n",
       "Name: HRper, dtype: float64"
      ]
     },
     "execution_count": 46,
     "metadata": {},
     "output_type": "execute_result"
    }
   ],
   "source": [
    "tto_test.HRper.head(50)"
   ]
  },
  {
   "cell_type": "code",
   "execution_count": 51,
   "metadata": {},
   "outputs": [],
   "source": [
    "tto_test['HRper'] = tto_test['HRper'].replace([tto_test['HRper'].iloc[0]], '2.36')\n",
    "tto_test['HRper'] = tto_test['HRper'].replace([tto_test['HRper'].iloc[1]], '2.31')\n",
    "tto_test['HRper'] = tto_test['HRper'].replace([tto_test['HRper'].iloc[2]], '2.35')\n",
    "tto_test['HRper'] = tto_test['HRper'].replace([tto_test['HRper'].iloc[3]], '2.61')\n",
    "tto_test['HRper'] = tto_test['HRper'].replace([tto_test['HRper'].iloc[4]], '2.77')\n",
    "tto_test['HRper'] = tto_test['HRper'].replace([tto_test['HRper'].iloc[5]], '3.35')\n",
    "tto_test['HRper'] = tto_test['HRper'].replace([tto_test['HRper'].iloc[6]], '3.30')\n",
    "tto_test['HRper'] = tto_test['HRper'].replace([tto_test['HRper'].iloc[7]], '3.11')\n",
    "tto_test['HRper'] = tto_test['HRper'].replace([tto_test['HRper'].iloc[8]], '2.95')\n",
    "tto_test['HRper'] = tto_test['HRper'].replace([tto_test['HRper'].iloc[9]], '3.79')"
   ]
  },
  {
   "cell_type": "code",
   "execution_count": 52,
   "metadata": {},
   "outputs": [
    {
     "data": {
      "text/plain": [
       "6     2.36\n",
       "2     2.31\n",
       "6     2.35\n",
       "0     2.61\n",
       "47    2.77\n",
       "58    3.35\n",
       "0     3.30\n",
       "7     3.11\n",
       "6     2.95\n",
       "2     3.79\n",
       "Name: HRper, dtype: object"
      ]
     },
     "execution_count": 52,
     "metadata": {},
     "output_type": "execute_result"
    }
   ],
   "source": [
    "tto_test.HRper"
   ]
  },
  {
   "cell_type": "code",
   "execution_count": 50,
   "metadata": {},
   "outputs": [
    {
     "data": {
      "text/plain": [
       "6     0.093088\n",
       "2     0.088794\n",
       "6     0.087754\n",
       "0     0.091505\n",
       "47    0.095720\n",
       "58    0.098058\n",
       "0     0.092534\n",
       "7     0.092262\n",
       "6     0.083622\n",
       "2     0.091336\n",
       "Name: BBper, dtype: float64"
      ]
     },
     "execution_count": 50,
     "metadata": {},
     "output_type": "execute_result"
    }
   ],
   "source": [
    "tto_test.BBper.head(50)"
   ]
  },
  {
   "cell_type": "code",
   "execution_count": 53,
   "metadata": {},
   "outputs": [],
   "source": [
    "tto_test['BBper'] = tto_test['BBper'].replace([tto_test['BBper'].iloc[0]], '9.30')\n",
    "tto_test['BBper'] = tto_test['BBper'].replace([tto_test['BBper'].iloc[1]], '8.87')\n",
    "tto_test['BBper'] = tto_test['BBper'].replace([tto_test['BBper'].iloc[2]], '8.77')\n",
    "tto_test['BBper'] = tto_test['BBper'].replace([tto_test['BBper'].iloc[3]], '9.15')\n",
    "tto_test['BBper'] = tto_test['BBper'].replace([tto_test['BBper'].iloc[4]], '9.57')\n",
    "tto_test['BBper'] = tto_test['BBper'].replace([tto_test['BBper'].iloc[5]], '9.80')\n",
    "tto_test['BBper'] = tto_test['BBper'].replace([tto_test['BBper'].iloc[6]], '9.25')\n",
    "tto_test['BBper'] = tto_test['BBper'].replace([tto_test['BBper'].iloc[7]], '9.22')\n",
    "tto_test['BBper'] = tto_test['BBper'].replace([tto_test['BBper'].iloc[8]], '9.36')\n",
    "tto_test['BBper'] = tto_test['BBper'].replace([tto_test['BBper'].iloc[9]], '9.13')"
   ]
  },
  {
   "cell_type": "code",
   "execution_count": 54,
   "metadata": {},
   "outputs": [
    {
     "data": {
      "text/plain": [
       "6     9.30\n",
       "2     8.87\n",
       "6     8.77\n",
       "0     9.15\n",
       "47    9.57\n",
       "58    9.80\n",
       "0     9.25\n",
       "7     9.22\n",
       "6     9.36\n",
       "2     9.13\n",
       "Name: BBper, dtype: object"
      ]
     },
     "execution_count": 54,
     "metadata": {},
     "output_type": "execute_result"
    }
   ],
   "source": [
    "tto_test.BBper"
   ]
  },
  {
   "cell_type": "code",
   "execution_count": 49,
   "metadata": {},
   "outputs": [
    {
     "data": {
      "text/plain": [
       "6     0.120905\n",
       "2     0.117529\n",
       "6     0.123130\n",
       "0     0.137122\n",
       "47    0.140010\n",
       "58    0.150726\n",
       "0     0.150894\n",
       "7     0.160377\n",
       "6     0.177324\n",
       "2     0.200861\n",
       "Name: Kper, dtype: float64"
      ]
     },
     "execution_count": 49,
     "metadata": {},
     "output_type": "execute_result"
    }
   ],
   "source": [
    "tto_test.Kper.head(50)"
   ]
  },
  {
   "cell_type": "code",
   "execution_count": 55,
   "metadata": {},
   "outputs": [],
   "source": [
    "tto_test['Kper'] = tto_test['Kper'].replace([tto_test['Kper'].iloc[0]], '12.09')\n",
    "tto_test['Kper'] = tto_test['Kper'].replace([tto_test['Kper'].iloc[1]], '11.75')\n",
    "tto_test['Kper'] = tto_test['Kper'].replace([tto_test['Kper'].iloc[2]], '12.31')\n",
    "tto_test['Kper'] = tto_test['Kper'].replace([tto_test['Kper'].iloc[3]], '13.71')\n",
    "tto_test['Kper'] = tto_test['Kper'].replace([tto_test['Kper'].iloc[4]], '14.00')\n",
    "tto_test['Kper'] = tto_test['Kper'].replace([tto_test['Kper'].iloc[5]], '15.07')\n",
    "tto_test['Kper'] = tto_test['Kper'].replace([tto_test['Kper'].iloc[6]], '15.08')\n",
    "tto_test['Kper'] = tto_test['Kper'].replace([tto_test['Kper'].iloc[7]], '16.03')\n",
    "tto_test['Kper'] = tto_test['Kper'].replace([tto_test['Kper'].iloc[8]], '17.73')\n",
    "tto_test['Kper'] = tto_test['Kper'].replace([tto_test['Kper'].iloc[9]], '20.08')"
   ]
  },
  {
   "cell_type": "code",
   "execution_count": 57,
   "metadata": {},
   "outputs": [
    {
     "data": {
      "text/html": [
       "<div>\n",
       "<style scoped>\n",
       "    .dataframe tbody tr th:only-of-type {\n",
       "        vertical-align: middle;\n",
       "    }\n",
       "\n",
       "    .dataframe tbody tr th {\n",
       "        vertical-align: top;\n",
       "    }\n",
       "\n",
       "    .dataframe thead th {\n",
       "        text-align: right;\n",
       "    }\n",
       "</style>\n",
       "<table border=\"1\" class=\"dataframe\">\n",
       "  <thead>\n",
       "    <tr style=\"text-align: right;\">\n",
       "      <th></th>\n",
       "      <th>HRper</th>\n",
       "      <th>BBper</th>\n",
       "      <th>Kper</th>\n",
       "    </tr>\n",
       "  </thead>\n",
       "  <tbody>\n",
       "    <tr>\n",
       "      <th>6</th>\n",
       "      <td>2.36</td>\n",
       "      <td>9.30</td>\n",
       "      <td>12.09</td>\n",
       "    </tr>\n",
       "    <tr>\n",
       "      <th>2</th>\n",
       "      <td>2.31</td>\n",
       "      <td>8.87</td>\n",
       "      <td>11.75</td>\n",
       "    </tr>\n",
       "    <tr>\n",
       "      <th>6</th>\n",
       "      <td>2.35</td>\n",
       "      <td>8.77</td>\n",
       "      <td>12.31</td>\n",
       "    </tr>\n",
       "    <tr>\n",
       "      <th>0</th>\n",
       "      <td>2.61</td>\n",
       "      <td>9.15</td>\n",
       "      <td>13.71</td>\n",
       "    </tr>\n",
       "    <tr>\n",
       "      <th>47</th>\n",
       "      <td>2.77</td>\n",
       "      <td>9.57</td>\n",
       "      <td>14.00</td>\n",
       "    </tr>\n",
       "    <tr>\n",
       "      <th>58</th>\n",
       "      <td>3.35</td>\n",
       "      <td>9.80</td>\n",
       "      <td>15.07</td>\n",
       "    </tr>\n",
       "    <tr>\n",
       "      <th>0</th>\n",
       "      <td>3.30</td>\n",
       "      <td>9.25</td>\n",
       "      <td>15.08</td>\n",
       "    </tr>\n",
       "    <tr>\n",
       "      <th>7</th>\n",
       "      <td>3.11</td>\n",
       "      <td>9.22</td>\n",
       "      <td>16.03</td>\n",
       "    </tr>\n",
       "    <tr>\n",
       "      <th>6</th>\n",
       "      <td>2.95</td>\n",
       "      <td>9.36</td>\n",
       "      <td>17.73</td>\n",
       "    </tr>\n",
       "    <tr>\n",
       "      <th>2</th>\n",
       "      <td>3.79</td>\n",
       "      <td>9.13</td>\n",
       "      <td>20.08</td>\n",
       "    </tr>\n",
       "  </tbody>\n",
       "</table>\n",
       "</div>"
      ],
      "text/plain": [
       "   HRper BBper   Kper\n",
       "6   2.36  9.30  12.09\n",
       "2   2.31  8.87  11.75\n",
       "6   2.35  8.77  12.31\n",
       "0   2.61  9.15  13.71\n",
       "47  2.77  9.57  14.00\n",
       "58  3.35  9.80  15.07\n",
       "0   3.30  9.25  15.08\n",
       "7   3.11  9.22  16.03\n",
       "6   2.95  9.36  17.73\n",
       "2   3.79  9.13  20.08"
      ]
     },
     "execution_count": 57,
     "metadata": {},
     "output_type": "execute_result"
    }
   ],
   "source": [
    "tto_test"
   ]
  },
  {
   "cell_type": "code",
   "execution_count": 60,
   "metadata": {},
   "outputs": [],
   "source": [
    "years = ['1970-1975', '1976-1980', '1981-1985', '1986-1990', '1991-1995', '1996-2000', '2001-2005', '2006-2010', '2011-2015', '2016-2021']"
   ]
  },
  {
   "cell_type": "code",
   "execution_count": 61,
   "metadata": {},
   "outputs": [],
   "source": [
    "tto_test.insert(0, 'Years', years)"
   ]
  },
  {
   "cell_type": "code",
   "execution_count": 62,
   "metadata": {},
   "outputs": [
    {
     "data": {
      "text/html": [
       "<div>\n",
       "<style scoped>\n",
       "    .dataframe tbody tr th:only-of-type {\n",
       "        vertical-align: middle;\n",
       "    }\n",
       "\n",
       "    .dataframe tbody tr th {\n",
       "        vertical-align: top;\n",
       "    }\n",
       "\n",
       "    .dataframe thead th {\n",
       "        text-align: right;\n",
       "    }\n",
       "</style>\n",
       "<table border=\"1\" class=\"dataframe\">\n",
       "  <thead>\n",
       "    <tr style=\"text-align: right;\">\n",
       "      <th></th>\n",
       "      <th>Years</th>\n",
       "      <th>HRper</th>\n",
       "      <th>BBper</th>\n",
       "      <th>Kper</th>\n",
       "    </tr>\n",
       "  </thead>\n",
       "  <tbody>\n",
       "    <tr>\n",
       "      <th>6</th>\n",
       "      <td>1970-1975</td>\n",
       "      <td>2.36</td>\n",
       "      <td>9.30</td>\n",
       "      <td>12.09</td>\n",
       "    </tr>\n",
       "    <tr>\n",
       "      <th>2</th>\n",
       "      <td>1976-1980</td>\n",
       "      <td>2.31</td>\n",
       "      <td>8.87</td>\n",
       "      <td>11.75</td>\n",
       "    </tr>\n",
       "    <tr>\n",
       "      <th>6</th>\n",
       "      <td>1981-1985</td>\n",
       "      <td>2.35</td>\n",
       "      <td>8.77</td>\n",
       "      <td>12.31</td>\n",
       "    </tr>\n",
       "    <tr>\n",
       "      <th>0</th>\n",
       "      <td>1986-1990</td>\n",
       "      <td>2.61</td>\n",
       "      <td>9.15</td>\n",
       "      <td>13.71</td>\n",
       "    </tr>\n",
       "    <tr>\n",
       "      <th>47</th>\n",
       "      <td>1991-1995</td>\n",
       "      <td>2.77</td>\n",
       "      <td>9.57</td>\n",
       "      <td>14.00</td>\n",
       "    </tr>\n",
       "  </tbody>\n",
       "</table>\n",
       "</div>"
      ],
      "text/plain": [
       "        Years HRper BBper   Kper\n",
       "6   1970-1975  2.36  9.30  12.09\n",
       "2   1976-1980  2.31  8.87  11.75\n",
       "6   1981-1985  2.35  8.77  12.31\n",
       "0   1986-1990  2.61  9.15  13.71\n",
       "47  1991-1995  2.77  9.57  14.00"
      ]
     },
     "execution_count": 62,
     "metadata": {},
     "output_type": "execute_result"
    }
   ],
   "source": [
    "tto_test.head()"
   ]
  },
  {
   "cell_type": "code",
   "execution_count": 63,
   "metadata": {},
   "outputs": [
    {
     "data": {
      "text/html": [
       "<div>\n",
       "<style scoped>\n",
       "    .dataframe tbody tr th:only-of-type {\n",
       "        vertical-align: middle;\n",
       "    }\n",
       "\n",
       "    .dataframe tbody tr th {\n",
       "        vertical-align: top;\n",
       "    }\n",
       "\n",
       "    .dataframe thead th {\n",
       "        text-align: right;\n",
       "    }\n",
       "</style>\n",
       "<table border=\"1\" class=\"dataframe\">\n",
       "  <thead>\n",
       "    <tr style=\"text-align: right;\">\n",
       "      <th></th>\n",
       "      <th>HRper</th>\n",
       "      <th>BBper</th>\n",
       "      <th>Kper</th>\n",
       "    </tr>\n",
       "    <tr>\n",
       "      <th>Years</th>\n",
       "      <th></th>\n",
       "      <th></th>\n",
       "      <th></th>\n",
       "    </tr>\n",
       "  </thead>\n",
       "  <tbody>\n",
       "    <tr>\n",
       "      <th>1970-1975</th>\n",
       "      <td>2.36</td>\n",
       "      <td>9.30</td>\n",
       "      <td>12.09</td>\n",
       "    </tr>\n",
       "    <tr>\n",
       "      <th>1976-1980</th>\n",
       "      <td>2.31</td>\n",
       "      <td>8.87</td>\n",
       "      <td>11.75</td>\n",
       "    </tr>\n",
       "    <tr>\n",
       "      <th>1981-1985</th>\n",
       "      <td>2.35</td>\n",
       "      <td>8.77</td>\n",
       "      <td>12.31</td>\n",
       "    </tr>\n",
       "    <tr>\n",
       "      <th>1986-1990</th>\n",
       "      <td>2.61</td>\n",
       "      <td>9.15</td>\n",
       "      <td>13.71</td>\n",
       "    </tr>\n",
       "    <tr>\n",
       "      <th>1991-1995</th>\n",
       "      <td>2.77</td>\n",
       "      <td>9.57</td>\n",
       "      <td>14.00</td>\n",
       "    </tr>\n",
       "    <tr>\n",
       "      <th>1996-2000</th>\n",
       "      <td>3.35</td>\n",
       "      <td>9.80</td>\n",
       "      <td>15.07</td>\n",
       "    </tr>\n",
       "    <tr>\n",
       "      <th>2001-2005</th>\n",
       "      <td>3.30</td>\n",
       "      <td>9.25</td>\n",
       "      <td>15.08</td>\n",
       "    </tr>\n",
       "    <tr>\n",
       "      <th>2006-2010</th>\n",
       "      <td>3.11</td>\n",
       "      <td>9.22</td>\n",
       "      <td>16.03</td>\n",
       "    </tr>\n",
       "    <tr>\n",
       "      <th>2011-2015</th>\n",
       "      <td>2.95</td>\n",
       "      <td>9.36</td>\n",
       "      <td>17.73</td>\n",
       "    </tr>\n",
       "    <tr>\n",
       "      <th>2016-2021</th>\n",
       "      <td>3.79</td>\n",
       "      <td>9.13</td>\n",
       "      <td>20.08</td>\n",
       "    </tr>\n",
       "  </tbody>\n",
       "</table>\n",
       "</div>"
      ],
      "text/plain": [
       "          HRper BBper   Kper\n",
       "Years                       \n",
       "1970-1975  2.36  9.30  12.09\n",
       "1976-1980  2.31  8.87  11.75\n",
       "1981-1985  2.35  8.77  12.31\n",
       "1986-1990  2.61  9.15  13.71\n",
       "1991-1995  2.77  9.57  14.00\n",
       "1996-2000  3.35  9.80  15.07\n",
       "2001-2005  3.30  9.25  15.08\n",
       "2006-2010  3.11  9.22  16.03\n",
       "2011-2015  2.95  9.36  17.73\n",
       "2016-2021  3.79  9.13  20.08"
      ]
     },
     "execution_count": 63,
     "metadata": {},
     "output_type": "execute_result"
    }
   ],
   "source": [
    "tto_test.set_index('Years')"
   ]
  },
  {
   "cell_type": "code",
   "execution_count": 64,
   "metadata": {},
   "outputs": [
    {
     "data": {
      "text/html": [
       "<div>\n",
       "<style scoped>\n",
       "    .dataframe tbody tr th:only-of-type {\n",
       "        vertical-align: middle;\n",
       "    }\n",
       "\n",
       "    .dataframe tbody tr th {\n",
       "        vertical-align: top;\n",
       "    }\n",
       "\n",
       "    .dataframe thead th {\n",
       "        text-align: right;\n",
       "    }\n",
       "</style>\n",
       "<table border=\"1\" class=\"dataframe\">\n",
       "  <thead>\n",
       "    <tr style=\"text-align: right;\">\n",
       "      <th></th>\n",
       "      <th>Years</th>\n",
       "      <th>HRper</th>\n",
       "      <th>BBper</th>\n",
       "      <th>Kper</th>\n",
       "    </tr>\n",
       "  </thead>\n",
       "  <tbody>\n",
       "    <tr>\n",
       "      <th>6</th>\n",
       "      <td>1970-1975</td>\n",
       "      <td>2.36</td>\n",
       "      <td>9.30</td>\n",
       "      <td>12.09</td>\n",
       "    </tr>\n",
       "    <tr>\n",
       "      <th>2</th>\n",
       "      <td>1976-1980</td>\n",
       "      <td>2.31</td>\n",
       "      <td>8.87</td>\n",
       "      <td>11.75</td>\n",
       "    </tr>\n",
       "    <tr>\n",
       "      <th>6</th>\n",
       "      <td>1981-1985</td>\n",
       "      <td>2.35</td>\n",
       "      <td>8.77</td>\n",
       "      <td>12.31</td>\n",
       "    </tr>\n",
       "    <tr>\n",
       "      <th>0</th>\n",
       "      <td>1986-1990</td>\n",
       "      <td>2.61</td>\n",
       "      <td>9.15</td>\n",
       "      <td>13.71</td>\n",
       "    </tr>\n",
       "    <tr>\n",
       "      <th>47</th>\n",
       "      <td>1991-1995</td>\n",
       "      <td>2.77</td>\n",
       "      <td>9.57</td>\n",
       "      <td>14.00</td>\n",
       "    </tr>\n",
       "  </tbody>\n",
       "</table>\n",
       "</div>"
      ],
      "text/plain": [
       "        Years HRper BBper   Kper\n",
       "6   1970-1975  2.36  9.30  12.09\n",
       "2   1976-1980  2.31  8.87  11.75\n",
       "6   1981-1985  2.35  8.77  12.31\n",
       "0   1986-1990  2.61  9.15  13.71\n",
       "47  1991-1995  2.77  9.57  14.00"
      ]
     },
     "execution_count": 64,
     "metadata": {},
     "output_type": "execute_result"
    }
   ],
   "source": [
    "tto_test.head()"
   ]
  },
  {
   "cell_type": "code",
   "execution_count": 68,
   "metadata": {},
   "outputs": [],
   "source": [
    "tto_test = tto_test.reset_index(drop=True)"
   ]
  },
  {
   "cell_type": "code",
   "execution_count": 69,
   "metadata": {},
   "outputs": [
    {
     "data": {
      "text/html": [
       "<div>\n",
       "<style scoped>\n",
       "    .dataframe tbody tr th:only-of-type {\n",
       "        vertical-align: middle;\n",
       "    }\n",
       "\n",
       "    .dataframe tbody tr th {\n",
       "        vertical-align: top;\n",
       "    }\n",
       "\n",
       "    .dataframe thead th {\n",
       "        text-align: right;\n",
       "    }\n",
       "</style>\n",
       "<table border=\"1\" class=\"dataframe\">\n",
       "  <thead>\n",
       "    <tr style=\"text-align: right;\">\n",
       "      <th></th>\n",
       "      <th>Years</th>\n",
       "      <th>HRper</th>\n",
       "      <th>BBper</th>\n",
       "      <th>Kper</th>\n",
       "    </tr>\n",
       "  </thead>\n",
       "  <tbody>\n",
       "    <tr>\n",
       "      <th>0</th>\n",
       "      <td>1970-1975</td>\n",
       "      <td>2.36</td>\n",
       "      <td>9.30</td>\n",
       "      <td>12.09</td>\n",
       "    </tr>\n",
       "    <tr>\n",
       "      <th>1</th>\n",
       "      <td>1976-1980</td>\n",
       "      <td>2.31</td>\n",
       "      <td>8.87</td>\n",
       "      <td>11.75</td>\n",
       "    </tr>\n",
       "    <tr>\n",
       "      <th>2</th>\n",
       "      <td>1981-1985</td>\n",
       "      <td>2.35</td>\n",
       "      <td>8.77</td>\n",
       "      <td>12.31</td>\n",
       "    </tr>\n",
       "    <tr>\n",
       "      <th>3</th>\n",
       "      <td>1986-1990</td>\n",
       "      <td>2.61</td>\n",
       "      <td>9.15</td>\n",
       "      <td>13.71</td>\n",
       "    </tr>\n",
       "    <tr>\n",
       "      <th>4</th>\n",
       "      <td>1991-1995</td>\n",
       "      <td>2.77</td>\n",
       "      <td>9.57</td>\n",
       "      <td>14.00</td>\n",
       "    </tr>\n",
       "  </tbody>\n",
       "</table>\n",
       "</div>"
      ],
      "text/plain": [
       "       Years HRper BBper   Kper\n",
       "0  1970-1975  2.36  9.30  12.09\n",
       "1  1976-1980  2.31  8.87  11.75\n",
       "2  1981-1985  2.35  8.77  12.31\n",
       "3  1986-1990  2.61  9.15  13.71\n",
       "4  1991-1995  2.77  9.57  14.00"
      ]
     },
     "execution_count": 69,
     "metadata": {},
     "output_type": "execute_result"
    }
   ],
   "source": [
    "tto_test.head()"
   ]
  },
  {
   "cell_type": "code",
   "execution_count": 70,
   "metadata": {},
   "outputs": [],
   "source": [
    "tto_test.set_index('Years', inplace=True)"
   ]
  },
  {
   "cell_type": "code",
   "execution_count": 71,
   "metadata": {},
   "outputs": [
    {
     "data": {
      "text/html": [
       "<div>\n",
       "<style scoped>\n",
       "    .dataframe tbody tr th:only-of-type {\n",
       "        vertical-align: middle;\n",
       "    }\n",
       "\n",
       "    .dataframe tbody tr th {\n",
       "        vertical-align: top;\n",
       "    }\n",
       "\n",
       "    .dataframe thead th {\n",
       "        text-align: right;\n",
       "    }\n",
       "</style>\n",
       "<table border=\"1\" class=\"dataframe\">\n",
       "  <thead>\n",
       "    <tr style=\"text-align: right;\">\n",
       "      <th></th>\n",
       "      <th>HRper</th>\n",
       "      <th>BBper</th>\n",
       "      <th>Kper</th>\n",
       "    </tr>\n",
       "    <tr>\n",
       "      <th>Years</th>\n",
       "      <th></th>\n",
       "      <th></th>\n",
       "      <th></th>\n",
       "    </tr>\n",
       "  </thead>\n",
       "  <tbody>\n",
       "    <tr>\n",
       "      <th>1970-1975</th>\n",
       "      <td>2.36</td>\n",
       "      <td>9.30</td>\n",
       "      <td>12.09</td>\n",
       "    </tr>\n",
       "    <tr>\n",
       "      <th>1976-1980</th>\n",
       "      <td>2.31</td>\n",
       "      <td>8.87</td>\n",
       "      <td>11.75</td>\n",
       "    </tr>\n",
       "    <tr>\n",
       "      <th>1981-1985</th>\n",
       "      <td>2.35</td>\n",
       "      <td>8.77</td>\n",
       "      <td>12.31</td>\n",
       "    </tr>\n",
       "    <tr>\n",
       "      <th>1986-1990</th>\n",
       "      <td>2.61</td>\n",
       "      <td>9.15</td>\n",
       "      <td>13.71</td>\n",
       "    </tr>\n",
       "    <tr>\n",
       "      <th>1991-1995</th>\n",
       "      <td>2.77</td>\n",
       "      <td>9.57</td>\n",
       "      <td>14.00</td>\n",
       "    </tr>\n",
       "  </tbody>\n",
       "</table>\n",
       "</div>"
      ],
      "text/plain": [
       "          HRper BBper   Kper\n",
       "Years                       \n",
       "1970-1975  2.36  9.30  12.09\n",
       "1976-1980  2.31  8.87  11.75\n",
       "1981-1985  2.35  8.77  12.31\n",
       "1986-1990  2.61  9.15  13.71\n",
       "1991-1995  2.77  9.57  14.00"
      ]
     },
     "execution_count": 71,
     "metadata": {},
     "output_type": "execute_result"
    }
   ],
   "source": [
    "tto_test.head()"
   ]
  },
  {
   "cell_type": "code",
   "execution_count": 66,
   "metadata": {},
   "outputs": [],
   "source": [
    "tto = tto_test"
   ]
  },
  {
   "cell_type": "code",
   "execution_count": 67,
   "metadata": {},
   "outputs": [],
   "source": [
    "tto.to_csv('tto_data.csv')"
   ]
  }
 ],
 "metadata": {
  "interpreter": {
   "hash": "b0fa6594d8f4cbf19f97940f81e996739fb7646882a419484c72d19e05852a7e"
  },
  "kernelspec": {
   "display_name": "Python 3.9.12 64-bit",
   "language": "python",
   "name": "python3"
  },
  "language_info": {
   "codemirror_mode": {
    "name": "ipython",
    "version": 3
   },
   "file_extension": ".py",
   "mimetype": "text/x-python",
   "name": "python",
   "nbconvert_exporter": "python",
   "pygments_lexer": "ipython3",
   "version": "3.9.12"
  },
  "orig_nbformat": 4
 },
 "nbformat": 4,
 "nbformat_minor": 2
}
