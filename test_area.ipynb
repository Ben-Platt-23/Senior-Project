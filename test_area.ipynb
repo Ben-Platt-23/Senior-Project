{
 "cells": [
  {
   "cell_type": "code",
   "execution_count": 13,
   "metadata": {},
   "outputs": [],
   "source": [
    "import requests\n",
    "from bs4 import BeautifulSoup\n",
    "import pandas as pd\n",
    "import re\n",
    "\n",
    "\n",
    "url = \"https://www.baseball-reference.com/leagues/majors/2021-advanced-batting.shtml\"\n",
    "page = requests.get(url)\n",
    "soup = BeautifulSoup(page.text, 'html.parser')\n",
    "\n",
    "test_var = pd.DataFrame()\n",
    "header = soup.find('tr', attrs = {'th': 'aria-label'})\n",
    "columns = \n",
    "\n",
    "\n",
    "\n"
   ]
  },
  {
   "cell_type": "code",
   "execution_count": 28,
   "metadata": {},
   "outputs": [],
   "source": [
    "import requests\n",
    "from bs4 import BeautifulSoup\n",
    "import pandas as pd\n",
    "import re\n",
    "\n",
    "\n",
    "for i in range(1, 331, 50):\n",
    "    url = \"http://www.espn.com/mlb/history/leaders/_/breakdown/season/year/2018/start/{}\".format(i)\n",
    "    page = requests.get(url)\n",
    "    soup = BeautifulSoup(page.text, 'html.parser')\n",
    "\n",
    "\n",
    "    header = soup.find('tr', attrs = {'class': 'colhead'})\n",
    "    columns = [col.get_text() for col in header.find_all('td')]\n",
    "\n",
    "    final_df = pd.DataFrame(columns = columns)\n",
    "\n",
    "\n",
    "    players = soup.find_all('tr', attrs={'class':re.compile('row player-10-')})\n",
    "\n",
    "    for player in players:\n",
    "        stats = [stat.get_text() for stat in player.find_all('td')]\n",
    "\n",
    "        temp_df = pd.DataFrame(stats).transpose()\n",
    "        temp_df.columns = columns\n",
    "\n",
    "        final_df = pd.concat([final_df, temp_df], ignore_index = True)\n",
    "\n",
    "\n",
    "#print(final_df)\n",
    "\n",
    "final_df.to_csv(\"mlb_stats.csv\")"
   ]
  },
  {
   "cell_type": "code",
   "execution_count": null,
   "metadata": {},
   "outputs": [],
   "source": []
  }
 ],
 "metadata": {
  "interpreter": {
   "hash": "b0fa6594d8f4cbf19f97940f81e996739fb7646882a419484c72d19e05852a7e"
  },
  "kernelspec": {
   "display_name": "Python 3.9.7 64-bit",
   "language": "python",
   "name": "python3"
  },
  "language_info": {
   "codemirror_mode": {
    "name": "ipython",
    "version": 3
   },
   "file_extension": ".py",
   "mimetype": "text/x-python",
   "name": "python",
   "nbconvert_exporter": "python",
   "pygments_lexer": "ipython3",
   "version": "3.9.7"
  },
  "orig_nbformat": 4
 },
 "nbformat": 4,
 "nbformat_minor": 2
}
