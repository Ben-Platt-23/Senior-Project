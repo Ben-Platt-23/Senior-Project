{
 "cells": [
  {
   "cell_type": "code",
   "execution_count": 1,
   "metadata": {},
   "outputs": [],
   "source": [
    "import requests\n",
    "import lxml.html as lh\n",
    "import pandas as pd"
   ]
  },
  {
   "cell_type": "code",
   "execution_count": 2,
   "metadata": {},
   "outputs": [],
   "source": [
    "url = 'https://sabr.org/bioproj/topic/baseball-demographics-1947-2016/'"
   ]
  },
  {
   "cell_type": "code",
   "execution_count": 3,
   "metadata": {},
   "outputs": [],
   "source": [
    "page = requests.get(url)"
   ]
  },
  {
   "cell_type": "code",
   "execution_count": 4,
   "metadata": {},
   "outputs": [],
   "source": [
    "doc = lh.fromstring(page.content)"
   ]
  },
  {
   "cell_type": "code",
   "execution_count": 5,
   "metadata": {},
   "outputs": [],
   "source": [
    "tr_elements = doc.xpath('//tr')"
   ]
  },
  {
   "cell_type": "code",
   "execution_count": 6,
   "metadata": {},
   "outputs": [
    {
     "name": "stdout",
     "output_type": "stream",
     "text": [
      "1:\"Year\"\n",
      "2:\"White \"\n",
      "3:\"AfricanAmericans\"\n",
      "4:\"Latino\"\n",
      "5:\"Asian\"\n"
     ]
    }
   ],
   "source": [
    "columns = []\n",
    "i = 0\n",
    "\n",
    "for t in tr_elements[0]:\n",
    "    i += 1\n",
    "    name = t.text_content()\n",
    "    print('%d:\"%s\"'%(i,name))\n",
    "    columns.append((name,[]))"
   ]
  },
  {
   "cell_type": "code",
   "execution_count": 7,
   "metadata": {},
   "outputs": [],
   "source": [
    "for j in range(1, len(tr_elements)):\n",
    "    T = tr_elements[j]\n",
    "\n",
    "    # if len(T) != 5:\n",
    "    #     break\n",
    "\n",
    "    i=0\n",
    "\n",
    "    for t in T.iterchildren():\n",
    "        data = t.text_content()\n",
    "\n",
    "        if i > 0:\n",
    "            try:\n",
    "                data = int(data)\n",
    "            except:\n",
    "                pass\n",
    "        columns[i][1].append(data)\n",
    "        i += 1"
   ]
  },
  {
   "cell_type": "code",
   "execution_count": 8,
   "metadata": {},
   "outputs": [
    {
     "data": {
      "text/plain": [
       "[141, 141, 141, 141, 141]"
      ]
     },
     "execution_count": 8,
     "metadata": {},
     "output_type": "execute_result"
    }
   ],
   "source": [
    "[len(C) for (title, C) in columns]"
   ]
  },
  {
   "cell_type": "code",
   "execution_count": 9,
   "metadata": {},
   "outputs": [],
   "source": [
    "Dict={title:column for (title, column) in columns}"
   ]
  },
  {
   "cell_type": "code",
   "execution_count": 10,
   "metadata": {},
   "outputs": [],
   "source": [
    "df1 = pd.DataFrame(Dict) "
   ]
  },
  {
   "cell_type": "code",
   "execution_count": 20,
   "metadata": {},
   "outputs": [],
   "source": [
    "all_players = df1.iloc[:70]"
   ]
  },
  {
   "cell_type": "code",
   "execution_count": 21,
   "metadata": {},
   "outputs": [
    {
     "data": {
      "text/html": [
       "<div>\n",
       "<style scoped>\n",
       "    .dataframe tbody tr th:only-of-type {\n",
       "        vertical-align: middle;\n",
       "    }\n",
       "\n",
       "    .dataframe tbody tr th {\n",
       "        vertical-align: top;\n",
       "    }\n",
       "\n",
       "    .dataframe thead th {\n",
       "        text-align: right;\n",
       "    }\n",
       "</style>\n",
       "<table border=\"1\" class=\"dataframe\">\n",
       "  <thead>\n",
       "    <tr style=\"text-align: right;\">\n",
       "      <th></th>\n",
       "      <th>Year</th>\n",
       "      <th>White</th>\n",
       "      <th>AfricanAmericans</th>\n",
       "      <th>Latino</th>\n",
       "      <th>Asian</th>\n",
       "    </tr>\n",
       "  </thead>\n",
       "  <tbody>\n",
       "    <tr>\n",
       "      <th>65</th>\n",
       "      <td>2012</td>\n",
       "      <td>63.9%</td>\n",
       "      <td>7.2%</td>\n",
       "      <td>26.9%</td>\n",
       "      <td>1.9%</td>\n",
       "    </tr>\n",
       "    <tr>\n",
       "      <th>66</th>\n",
       "      <td>2013</td>\n",
       "      <td>63.6%</td>\n",
       "      <td>6.7%</td>\n",
       "      <td>27.7%</td>\n",
       "      <td>2.0%</td>\n",
       "    </tr>\n",
       "    <tr>\n",
       "      <th>67</th>\n",
       "      <td>2014</td>\n",
       "      <td>63.7%</td>\n",
       "      <td>6.7%</td>\n",
       "      <td>27.7%</td>\n",
       "      <td>1.8%</td>\n",
       "    </tr>\n",
       "    <tr>\n",
       "      <th>68</th>\n",
       "      <td>2015</td>\n",
       "      <td>63.4%</td>\n",
       "      <td>7.2%</td>\n",
       "      <td>27.7%</td>\n",
       "      <td>1.7%</td>\n",
       "    </tr>\n",
       "    <tr>\n",
       "      <th>69</th>\n",
       "      <td>2016</td>\n",
       "      <td>63.7%</td>\n",
       "      <td>6.7%</td>\n",
       "      <td>27.4%</td>\n",
       "      <td>2.1%</td>\n",
       "    </tr>\n",
       "  </tbody>\n",
       "</table>\n",
       "</div>"
      ],
      "text/plain": [
       "    Year White  AfricanAmericans Latino Asian\n",
       "65  2012  63.9%             7.2%  26.9%  1.9%\n",
       "66  2013  63.6%             6.7%  27.7%  2.0%\n",
       "67  2014  63.7%             6.7%  27.7%  1.8%\n",
       "68  2015  63.4%             7.2%  27.7%  1.7%\n",
       "69  2016  63.7%             6.7%  27.4%  2.1%"
      ]
     },
     "execution_count": 21,
     "metadata": {},
     "output_type": "execute_result"
    }
   ],
   "source": [
    "all_players.tail()"
   ]
  },
  {
   "cell_type": "code",
   "execution_count": 22,
   "metadata": {},
   "outputs": [],
   "source": [
    "all_players_war = df1.iloc[71:]"
   ]
  },
  {
   "cell_type": "code",
   "execution_count": 23,
   "metadata": {},
   "outputs": [
    {
     "data": {
      "text/html": [
       "<div>\n",
       "<style scoped>\n",
       "    .dataframe tbody tr th:only-of-type {\n",
       "        vertical-align: middle;\n",
       "    }\n",
       "\n",
       "    .dataframe tbody tr th {\n",
       "        vertical-align: top;\n",
       "    }\n",
       "\n",
       "    .dataframe thead th {\n",
       "        text-align: right;\n",
       "    }\n",
       "</style>\n",
       "<table border=\"1\" class=\"dataframe\">\n",
       "  <thead>\n",
       "    <tr style=\"text-align: right;\">\n",
       "      <th></th>\n",
       "      <th>Year</th>\n",
       "      <th>White</th>\n",
       "      <th>AfricanAmericans</th>\n",
       "      <th>Latino</th>\n",
       "      <th>Asian</th>\n",
       "    </tr>\n",
       "  </thead>\n",
       "  <tbody>\n",
       "    <tr>\n",
       "      <th>136</th>\n",
       "      <td>2012</td>\n",
       "      <td>58.3%</td>\n",
       "      <td>11.4%</td>\n",
       "      <td>28.0%</td>\n",
       "      <td>2.2%</td>\n",
       "    </tr>\n",
       "    <tr>\n",
       "      <th>137</th>\n",
       "      <td>2013</td>\n",
       "      <td>57.3%</td>\n",
       "      <td>7.7%</td>\n",
       "      <td>30.7%</td>\n",
       "      <td>4.3%</td>\n",
       "    </tr>\n",
       "    <tr>\n",
       "      <th>138</th>\n",
       "      <td>2014</td>\n",
       "      <td>59.1%</td>\n",
       "      <td>11.0%</td>\n",
       "      <td>27.3%</td>\n",
       "      <td>2.7%</td>\n",
       "    </tr>\n",
       "    <tr>\n",
       "      <th>139</th>\n",
       "      <td>2015</td>\n",
       "      <td>58.1%</td>\n",
       "      <td>11.6%</td>\n",
       "      <td>28.0%</td>\n",
       "      <td>2.3%</td>\n",
       "    </tr>\n",
       "    <tr>\n",
       "      <th>140</th>\n",
       "      <td>2016</td>\n",
       "      <td>59.9%</td>\n",
       "      <td>8.3%</td>\n",
       "      <td>29.2%</td>\n",
       "      <td>2.5%</td>\n",
       "    </tr>\n",
       "  </tbody>\n",
       "</table>\n",
       "</div>"
      ],
      "text/plain": [
       "     Year White  AfricanAmericans Latino Asian\n",
       "136  2012  58.3%            11.4%  28.0%  2.2%\n",
       "137  2013  57.3%             7.7%  30.7%  4.3%\n",
       "138  2014  59.1%            11.0%  27.3%  2.7%\n",
       "139  2015  58.1%            11.6%  28.0%  2.3%\n",
       "140  2016  59.9%             8.3%  29.2%  2.5%"
      ]
     },
     "execution_count": 23,
     "metadata": {},
     "output_type": "execute_result"
    }
   ],
   "source": [
    "all_players_war.tail()"
   ]
  },
  {
   "cell_type": "code",
   "execution_count": 1,
   "metadata": {},
   "outputs": [
    {
     "ename": "ModuleNotFoundError",
     "evalue": "No module named 'seaborn'",
     "output_type": "error",
     "traceback": [
      "\u001b[0;31m---------------------------------------------------------------------------\u001b[0m",
      "\u001b[0;31mModuleNotFoundError\u001b[0m                       Traceback (most recent call last)",
      "\u001b[1;32m/Users/benplatt/Desktop/programming/github_repositories/Senior-Project/baseball_demographics.ipynb Cell 15'\u001b[0m in \u001b[0;36m<cell line: 3>\u001b[0;34m()\u001b[0m\n\u001b[1;32m      <a href='vscode-notebook-cell:/Users/benplatt/Desktop/programming/github_repositories/Senior-Project/baseball_demographics.ipynb#ch0000015?line=0'>1</a>\u001b[0m \u001b[39mimport\u001b[39;00m \u001b[39mmatplotlib\u001b[39;00m\u001b[39m.\u001b[39;00m\u001b[39mpyplot\u001b[39;00m \u001b[39mas\u001b[39;00m \u001b[39mplt\u001b[39;00m\n\u001b[1;32m      <a href='vscode-notebook-cell:/Users/benplatt/Desktop/programming/github_repositories/Senior-Project/baseball_demographics.ipynb#ch0000015?line=1'>2</a>\u001b[0m get_ipython()\u001b[39m.\u001b[39mrun_line_magic(\u001b[39m'\u001b[39m\u001b[39mmatplotlib\u001b[39m\u001b[39m'\u001b[39m, \u001b[39m'\u001b[39m\u001b[39minline\u001b[39m\u001b[39m'\u001b[39m)\n\u001b[0;32m----> <a href='vscode-notebook-cell:/Users/benplatt/Desktop/programming/github_repositories/Senior-Project/baseball_demographics.ipynb#ch0000015?line=2'>3</a>\u001b[0m \u001b[39mimport\u001b[39;00m \u001b[39mseaborn\u001b[39;00m \u001b[39mas\u001b[39;00m \u001b[39msns\u001b[39;00m\n",
      "\u001b[0;31mModuleNotFoundError\u001b[0m: No module named 'seaborn'"
     ]
    }
   ],
   "source": [
    "import matplotlib.pyplot as plt\n",
    "%matplotlib inline\n",
    "import seaborn as sns"
   ]
  },
  {
   "cell_type": "markdown",
   "metadata": {},
   "source": [
    "# All players demographics graph"
   ]
  },
  {
   "cell_type": "code",
   "execution_count": 27,
   "metadata": {},
   "outputs": [],
   "source": [
    "x = all_players.Year\n",
    "y = [0, 5, 10, 15, 20, 25, 30, 35, 40, 45, 50, 55, 60, 65, 70, 75, 80, 85, 90, 95, 100]"
   ]
  },
  {
   "cell_type": "code",
   "execution_count": 29,
   "metadata": {},
   "outputs": [
    {
     "data": {
      "image/png": "[encoded data removed]",
      "text/plain": [
       "<Figure size 432x288 with 1 Axes>"
      ]
     },
     "metadata": {
      "needs_background": "light"
     },
     "output_type": "display_data"
    }
   ],
   "source": [
    "plt.plot(x)\n",
    "plt.show()"
   ]
  },
  {
   "cell_type": "code",
   "execution_count": null,
   "metadata": {},
   "outputs": [],
   "source": []
  }
 ],
 "metadata": {
  "interpreter": {
   "hash": "b0fa6594d8f4cbf19f97940f81e996739fb7646882a419484c72d19e05852a7e"
  },
  "kernelspec": {
   "display_name": "Python 3.9.12 64-bit",
   "language": "python",
   "name": "python3"
  },
  "language_info": {
   "codemirror_mode": {
    "name": "ipython",
    "version": 3
   },
   "file_extension": ".py",
   "mimetype": "text/x-python",
   "name": "python",
   "nbconvert_exporter": "python",
   "pygments_lexer": "ipython3",
   "version": "3.9.12"
  },
  "orig_nbformat": 4
 },
 "nbformat": 4,
 "nbformat_minor": 2
}
